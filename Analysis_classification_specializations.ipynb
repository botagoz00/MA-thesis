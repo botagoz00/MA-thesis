{
 "cells": [
  {
   "cell_type": "code",
   "execution_count": 1,
   "id": "cc9a930d-de93-4ef2-b9f0-274161a6d048",
   "metadata": {},
   "outputs": [],
   "source": [
    "import pandas as pd\n",
    "import numpy as np\n",
    "from sklearn.preprocessing import OneHotEncoder\n",
    "from sklearn.model_selection import GridSearchCV, train_test_split as tts\n",
    "from sklearn.metrics import classification_report, accuracy_score\n",
    "from sklearn.linear_model import LogisticRegression\n",
    "import statsmodels.api as sm\n",
    "import matplotlib.pyplot as plt"
   ]
  },
  {
   "cell_type": "markdown",
   "id": "eac9e40f-31f4-4f16-91b8-3414af97a606",
   "metadata": {},
   "source": [
    "#### load data"
   ]
  },
  {
   "cell_type": "code",
   "execution_count": 2,
   "id": "190e4e81-6262-491b-bef3-301fdf5eb637",
   "metadata": {},
   "outputs": [],
   "source": [
    "### data of scores\n",
    "first=True\n",
    "for year in range(2015, 2021):\n",
    "    cur_df = pd.read_csv('no_gender_{}.csv'.format(year))\n",
    "    if year < 2017:\n",
    "        cur_df['before2017']=1\n",
    "    else:\n",
    "        cur_df['before2017']=0\n",
    "    cur_df['year']=year\n",
    "    if first:\n",
    "        full_df = cur_df.copy()\n",
    "        first=False\n",
    "    else:\n",
    "        full_df = pd.concat([full_df, cur_df], axis=0).reset_index(drop=True)"
   ]
  },
  {
   "cell_type": "markdown",
   "id": "a2fb191f-b95a-4a5c-9f72-2ce8f10825bc",
   "metadata": {},
   "source": [
    "#### prepocess data"
   ]
  },
  {
   "cell_type": "code",
   "execution_count": 3,
   "id": "1a72fae7-8040-405c-9a35-2e63fd859b14",
   "metadata": {},
   "outputs": [],
   "source": [
    "### clean scores\n",
    "scored_df = full_df.copy()\n",
    "scored_df['Score'] = pd.to_numeric(scored_df['Score'], errors='coerce')\n",
    "scored_df.dropna(subset=['Score'], inplace=True)"
   ]
  },
  {
   "cell_type": "code",
   "execution_count": 4,
   "id": "52cf8de3-f3c0-4c46-ad9a-b6b16e311894",
   "metadata": {},
   "outputs": [],
   "source": [
    "scored_df['Score_norm'] = scored_df['Score']/140\n",
    "scored_df.loc[scored_df['before2017']==1, 'Score_norm'] = scored_df.loc[scored_df['before2017']==1, 'Score'] / 100"
   ]
  },
  {
   "cell_type": "code",
   "execution_count": 5,
   "id": "d14bacc5-1de5-4d63-9c42-9ede612741a2",
   "metadata": {},
   "outputs": [],
   "source": [
    "def get_specialization_code(code_name):\n",
    "    code_name = str(code_name)\n",
    "    if '-' not in code_name:\n",
    "        if code_name[:1]=='5':\n",
    "            return code_name.split(' ')[0].strip()\n",
    "        else:\n",
    "            return None\n",
    "    else:\n",
    "        return code_name.split('-')[0].strip()"
   ]
  },
  {
   "cell_type": "code",
   "execution_count": 6,
   "id": "cfdccea8-5d98-450f-8573-c9aea1d38f99",
   "metadata": {},
   "outputs": [],
   "source": [
    "### get specialization codes\n",
    "coded_df = scored_df.copy()\n",
    "coded_df['SpecCode'] = coded_df['Specialization'].apply(get_specialization_code)"
   ]
  },
  {
   "cell_type": "code",
   "execution_count": 7,
   "id": "5232da6c-a1a4-44ea-a2f0-e84f2bfcda8d",
   "metadata": {},
   "outputs": [
    {
     "data": {
      "text/plain": [
       "(1165, 193097)"
      ]
     },
     "execution_count": 7,
     "metadata": {},
     "output_type": "execute_result"
    }
   ],
   "source": [
    "### how much nan codes\n",
    "coded_df['SpecCode'].isna().sum(), coded_df.shape[0]"
   ]
  },
  {
   "cell_type": "code",
   "execution_count": 8,
   "id": "81d7d5bd-b2a7-4fc9-a8d7-ca23ea435913",
   "metadata": {},
   "outputs": [
    {
     "data": {
      "text/plain": [
       "array(['Білім', 'Гуманитарлық ғылымдар', 'Құқық', 'Өнер',\n",
       "       'Әлеуметтік ғылымдар, экономика және бизнес',\n",
       "       'Жаратылыстану ғылымдары',\n",
       "       'Техникалық ғылымдар және технологиялар',\n",
       "       'Ауылшаруашылық ғылымдары', 'Қызмет көрсету',\n",
       "       'Денсаулық сақтау және әлеуметтік қамтамасыз ету (медицина)',\n",
       "       'Ветеринария', 'ҚазҰМУ 13', 'ОҚМФА 11', 'ОҚМФА 13', 'Астана МУ 13',\n",
       "       'ҚарММУ 13', 'ҚА', 'ҚазҰМУ 11', '№', 'Күндізгі оқу түрі'],\n",
       "      dtype=object)"
      ]
     },
     "execution_count": 8,
     "metadata": {},
     "output_type": "execute_result"
    }
   ],
   "source": [
    "### values of specialization without codes\n",
    "coded_df[coded_df['SpecCode'].isna()]['Specialization'].unique()"
   ]
  },
  {
   "cell_type": "code",
   "execution_count": 9,
   "id": "7d4549d5-27e1-4bb4-969e-5ab28a853e46",
   "metadata": {},
   "outputs": [],
   "source": [
    "### drop nans\n",
    "coded_df.dropna(subset=['SpecCode'], inplace=True)"
   ]
  },
  {
   "cell_type": "code",
   "execution_count": 10,
   "id": "5d3e9de3-b63c-43a2-a06a-e65524dfa9b4",
   "metadata": {},
   "outputs": [],
   "source": [
    "### clean uni codes\n",
    "uni_df = coded_df.copy()\n",
    "uni_df['University Code'] = pd.to_numeric(uni_df['University Code'], errors='coerce')\n",
    "uni_df.dropna(subset=['University Code'], inplace=True)"
   ]
  },
  {
   "cell_type": "code",
   "execution_count": 11,
   "id": "eb6d7965-5869-4814-94dd-1735fa9d181d",
   "metadata": {},
   "outputs": [],
   "source": [
    "def gender_from_name(text):\n",
    "    lower_text = str(text).lower()\n",
    "    if ('қызы' in lower_text\n",
    "        or 'кызы' in lower_text\n",
    "        or 'ова' in lower_text\n",
    "        or 'овна' in lower_text\n",
    "       or 'евна' in lower_text\n",
    "       or 'кизи' in lower_text\n",
    "       or 'қизи' in lower_text):\n",
    "        gender = 'female'\n",
    "    elif ('ұлы' in lower_text\n",
    "          or 'улы' in lower_text\n",
    "          or 'ович' in lower_text\n",
    "         or 'евич' in lower_text):\n",
    "        gender = 'male'\n",
    "    else:\n",
    "        gender = None\n",
    "    return gender"
   ]
  },
  {
   "cell_type": "code",
   "execution_count": 12,
   "id": "c8a36708-ac4b-4799-98ee-a2680cda715b",
   "metadata": {},
   "outputs": [],
   "source": [
    "### get genders\n",
    "gendered_df = uni_df.copy()\n",
    "gendered_df['Gender'] = gendered_df['Name'].apply(gender_from_name)\n",
    "gendered_df.dropna(subset=['Gender'], inplace=True)"
   ]
  },
  {
   "cell_type": "code",
   "execution_count": 13,
   "id": "a80d83fa-a9b9-4b9d-9857-f7c2151a8f3e",
   "metadata": {},
   "outputs": [
    {
     "name": "stderr",
     "output_type": "stream",
     "text": [
      "/Users/user/Library/Python/3.8/lib/python/site-packages/sklearn/preprocessing/_encoders.py:975: FutureWarning: `sparse` was renamed to `sparse_output` in version 1.2 and will be removed in 1.4. `sparse_output` is ignored unless you leave `sparse` to its default value.\n",
      "  warnings.warn(\n"
     ]
    }
   ],
   "source": [
    "### encode categorical values\n",
    "categories = ['University Code', 'Competition', 'SpecCode', 'Gender']\n",
    "ohe = OneHotEncoder(drop='first', sparse=False)\n",
    "encoded_data = ohe.fit_transform(gendered_df[categories])\n",
    "encoded_df = pd.DataFrame(encoded_data, columns=ohe.get_feature_names_out())\n",
    "encoded_df['before2017'] = gendered_df['before2017'].tolist()\n",
    "encoded_df['Score'] = gendered_df['Score_norm'].tolist()"
   ]
  },
  {
   "cell_type": "markdown",
   "id": "290f738e-bceb-41cf-86b2-731d6506d4f8",
   "metadata": {},
   "source": [
    "#### make train test split"
   ]
  },
  {
   "cell_type": "code",
   "execution_count": 14,
   "id": "883020e7-e60a-4e9b-bb76-e04f81bebc6f",
   "metadata": {},
   "outputs": [],
   "source": [
    "### feature target split\n",
    "x = encoded_df.drop(columns=['Gender_male'])\n",
    "y = encoded_df['Gender_male']\n",
    "for col in x.columns:\n",
    "    x[col] = x[col].astype('float')"
   ]
  },
  {
   "cell_type": "code",
   "execution_count": 15,
   "id": "8ea3177b-2e2c-4715-8ec6-3efc6c08825a",
   "metadata": {},
   "outputs": [],
   "source": [
    "### train test split\n",
    "x_tr, x_t, y_tr, y_t = tts(x, y, test_size=0.2, random_state=105)"
   ]
  },
  {
   "cell_type": "markdown",
   "id": "dc35ba51-c2d3-4a3e-b61d-488b0b51afda",
   "metadata": {},
   "source": [
    "#### with uni codes"
   ]
  },
  {
   "cell_type": "code",
   "execution_count": 16,
   "id": "74041371-8cb8-42cb-addb-066f32fca413",
   "metadata": {},
   "outputs": [],
   "source": [
    "### prep conditions\n",
    "param_grid = {'C': np.arange(0.1, 2.1, 0.1)}\n",
    "LR = LogisticRegression(penalty='l1', solver='saga', max_iter=1000)\n",
    "grid_search = GridSearchCV(LR, param_grid, cv=3, scoring='f1', n_jobs=-1)"
   ]
  },
  {
   "cell_type": "code",
   "execution_count": 17,
   "id": "00b3510f-35ed-4103-b3cc-03263d7af5d6",
   "metadata": {},
   "outputs": [
    {
     "data": {
      "text/html": [
       "<style>#sk-container-id-1 {color: black;}#sk-container-id-1 pre{padding: 0;}#sk-container-id-1 div.sk-toggleable {background-color: white;}#sk-container-id-1 label.sk-toggleable__label {cursor: pointer;display: block;width: 100%;margin-bottom: 0;padding: 0.3em;box-sizing: border-box;text-align: center;}#sk-container-id-1 label.sk-toggleable__label-arrow:before {content: \"▸\";float: left;margin-right: 0.25em;color: #696969;}#sk-container-id-1 label.sk-toggleable__label-arrow:hover:before {color: black;}#sk-container-id-1 div.sk-estimator:hover label.sk-toggleable__label-arrow:before {color: black;}#sk-container-id-1 div.sk-toggleable__content {max-height: 0;max-width: 0;overflow: hidden;text-align: left;background-color: #f0f8ff;}#sk-container-id-1 div.sk-toggleable__content pre {margin: 0.2em;color: black;border-radius: 0.25em;background-color: #f0f8ff;}#sk-container-id-1 input.sk-toggleable__control:checked~div.sk-toggleable__content {max-height: 200px;max-width: 100%;overflow: auto;}#sk-container-id-1 input.sk-toggleable__control:checked~label.sk-toggleable__label-arrow:before {content: \"▾\";}#sk-container-id-1 div.sk-estimator input.sk-toggleable__control:checked~label.sk-toggleable__label {background-color: #d4ebff;}#sk-container-id-1 div.sk-label input.sk-toggleable__control:checked~label.sk-toggleable__label {background-color: #d4ebff;}#sk-container-id-1 input.sk-hidden--visually {border: 0;clip: rect(1px 1px 1px 1px);clip: rect(1px, 1px, 1px, 1px);height: 1px;margin: -1px;overflow: hidden;padding: 0;position: absolute;width: 1px;}#sk-container-id-1 div.sk-estimator {font-family: monospace;background-color: #f0f8ff;border: 1px dotted black;border-radius: 0.25em;box-sizing: border-box;margin-bottom: 0.5em;}#sk-container-id-1 div.sk-estimator:hover {background-color: #d4ebff;}#sk-container-id-1 div.sk-parallel-item::after {content: \"\";width: 100%;border-bottom: 1px solid gray;flex-grow: 1;}#sk-container-id-1 div.sk-label:hover label.sk-toggleable__label {background-color: #d4ebff;}#sk-container-id-1 div.sk-serial::before {content: \"\";position: absolute;border-left: 1px solid gray;box-sizing: border-box;top: 0;bottom: 0;left: 50%;z-index: 0;}#sk-container-id-1 div.sk-serial {display: flex;flex-direction: column;align-items: center;background-color: white;padding-right: 0.2em;padding-left: 0.2em;position: relative;}#sk-container-id-1 div.sk-item {position: relative;z-index: 1;}#sk-container-id-1 div.sk-parallel {display: flex;align-items: stretch;justify-content: center;background-color: white;position: relative;}#sk-container-id-1 div.sk-item::before, #sk-container-id-1 div.sk-parallel-item::before {content: \"\";position: absolute;border-left: 1px solid gray;box-sizing: border-box;top: 0;bottom: 0;left: 50%;z-index: -1;}#sk-container-id-1 div.sk-parallel-item {display: flex;flex-direction: column;z-index: 1;position: relative;background-color: white;}#sk-container-id-1 div.sk-parallel-item:first-child::after {align-self: flex-end;width: 50%;}#sk-container-id-1 div.sk-parallel-item:last-child::after {align-self: flex-start;width: 50%;}#sk-container-id-1 div.sk-parallel-item:only-child::after {width: 0;}#sk-container-id-1 div.sk-dashed-wrapped {border: 1px dashed gray;margin: 0 0.4em 0.5em 0.4em;box-sizing: border-box;padding-bottom: 0.4em;background-color: white;}#sk-container-id-1 div.sk-label label {font-family: monospace;font-weight: bold;display: inline-block;line-height: 1.2em;}#sk-container-id-1 div.sk-label-container {text-align: center;}#sk-container-id-1 div.sk-container {/* jupyter's `normalize.less` sets `[hidden] { display: none; }` but bootstrap.min.css set `[hidden] { display: none !important; }` so we also need the `!important` here to be able to override the default hidden behavior on the sphinx rendered scikit-learn.org. See: https://github.com/scikit-learn/scikit-learn/issues/21755 */display: inline-block !important;position: relative;}#sk-container-id-1 div.sk-text-repr-fallback {display: none;}</style><div id=\"sk-container-id-1\" class=\"sk-top-container\"><div class=\"sk-text-repr-fallback\"><pre>GridSearchCV(cv=3,\n",
       "             estimator=LogisticRegression(max_iter=1000, penalty=&#x27;l1&#x27;,\n",
       "                                          solver=&#x27;saga&#x27;),\n",
       "             n_jobs=-1,\n",
       "             param_grid={&#x27;C&#x27;: array([0.1, 0.2, 0.3, 0.4, 0.5, 0.6, 0.7, 0.8, 0.9, 1. , 1.1, 1.2, 1.3,\n",
       "       1.4, 1.5, 1.6, 1.7, 1.8, 1.9, 2. ])},\n",
       "             scoring=&#x27;f1&#x27;)</pre><b>In a Jupyter environment, please rerun this cell to show the HTML representation or trust the notebook. <br />On GitHub, the HTML representation is unable to render, please try loading this page with nbviewer.org.</b></div><div class=\"sk-container\" hidden><div class=\"sk-item sk-dashed-wrapped\"><div class=\"sk-label-container\"><div class=\"sk-label sk-toggleable\"><input class=\"sk-toggleable__control sk-hidden--visually\" id=\"sk-estimator-id-1\" type=\"checkbox\" ><label for=\"sk-estimator-id-1\" class=\"sk-toggleable__label sk-toggleable__label-arrow\">GridSearchCV</label><div class=\"sk-toggleable__content\"><pre>GridSearchCV(cv=3,\n",
       "             estimator=LogisticRegression(max_iter=1000, penalty=&#x27;l1&#x27;,\n",
       "                                          solver=&#x27;saga&#x27;),\n",
       "             n_jobs=-1,\n",
       "             param_grid={&#x27;C&#x27;: array([0.1, 0.2, 0.3, 0.4, 0.5, 0.6, 0.7, 0.8, 0.9, 1. , 1.1, 1.2, 1.3,\n",
       "       1.4, 1.5, 1.6, 1.7, 1.8, 1.9, 2. ])},\n",
       "             scoring=&#x27;f1&#x27;)</pre></div></div></div><div class=\"sk-parallel\"><div class=\"sk-parallel-item\"><div class=\"sk-item\"><div class=\"sk-label-container\"><div class=\"sk-label sk-toggleable\"><input class=\"sk-toggleable__control sk-hidden--visually\" id=\"sk-estimator-id-2\" type=\"checkbox\" ><label for=\"sk-estimator-id-2\" class=\"sk-toggleable__label sk-toggleable__label-arrow\">estimator: LogisticRegression</label><div class=\"sk-toggleable__content\"><pre>LogisticRegression(max_iter=1000, penalty=&#x27;l1&#x27;, solver=&#x27;saga&#x27;)</pre></div></div></div><div class=\"sk-serial\"><div class=\"sk-item\"><div class=\"sk-estimator sk-toggleable\"><input class=\"sk-toggleable__control sk-hidden--visually\" id=\"sk-estimator-id-3\" type=\"checkbox\" ><label for=\"sk-estimator-id-3\" class=\"sk-toggleable__label sk-toggleable__label-arrow\">LogisticRegression</label><div class=\"sk-toggleable__content\"><pre>LogisticRegression(max_iter=1000, penalty=&#x27;l1&#x27;, solver=&#x27;saga&#x27;)</pre></div></div></div></div></div></div></div></div></div></div>"
      ],
      "text/plain": [
       "GridSearchCV(cv=3,\n",
       "             estimator=LogisticRegression(max_iter=1000, penalty='l1',\n",
       "                                          solver='saga'),\n",
       "             n_jobs=-1,\n",
       "             param_grid={'C': array([0.1, 0.2, 0.3, 0.4, 0.5, 0.6, 0.7, 0.8, 0.9, 1. , 1.1, 1.2, 1.3,\n",
       "       1.4, 1.5, 1.6, 1.7, 1.8, 1.9, 2. ])},\n",
       "             scoring='f1')"
      ]
     },
     "execution_count": 17,
     "metadata": {},
     "output_type": "execute_result"
    }
   ],
   "source": [
    "### train model\n",
    "grid_search.fit(x_tr, y_tr)"
   ]
  },
  {
   "cell_type": "code",
   "execution_count": 18,
   "id": "efb5fbdf-107a-4c2c-b374-864998cbc13e",
   "metadata": {},
   "outputs": [
    {
     "name": "stdout",
     "output_type": "stream",
     "text": [
      "              precision    recall  f1-score   support\n",
      "\n",
      "         0.0       0.76      0.79      0.77     84193\n",
      "         1.0       0.71      0.67      0.69     64775\n",
      "\n",
      "    accuracy                           0.74    148968\n",
      "   macro avg       0.73      0.73      0.73    148968\n",
      "weighted avg       0.74      0.74      0.74    148968\n",
      "\n"
     ]
    }
   ],
   "source": [
    "### check model scores\n",
    "pred_tr = grid_search.predict(x_tr)\n",
    "print(classification_report(y_tr, pred_tr))"
   ]
  },
  {
   "cell_type": "code",
   "execution_count": 19,
   "id": "10accb0d-ded1-4afd-89f3-fb248534181c",
   "metadata": {},
   "outputs": [
    {
     "data": {
      "text/plain": [
       "{'C': 2.0}"
      ]
     },
     "execution_count": 19,
     "metadata": {},
     "output_type": "execute_result"
    }
   ],
   "source": [
    "### check best configuration of model\n",
    "grid_search.best_params_"
   ]
  },
  {
   "cell_type": "code",
   "execution_count": 20,
   "id": "282f6eb5-3130-4eb9-875d-7642405d40aa",
   "metadata": {},
   "outputs": [],
   "source": [
    "coef_importance = {grid_search.best_estimator_.feature_names_in_[i]: grid_search.best_estimator_.coef_[0][i] for i in range(len(grid_search.best_estimator_.feature_names_in_))}\n",
    "coef_importance = dict(sorted(coef_importance.items(), reverse=True, key=lambda x: abs(x[1])))"
   ]
  },
  {
   "cell_type": "code",
   "execution_count": 21,
   "id": "edf17bc9-b1cb-444b-be6f-e40265361cd3",
   "metadata": {},
   "outputs": [],
   "source": [
    "truly_important = {key: val for key,val in coef_importance.items() if abs(val) >= 0.01}"
   ]
  },
  {
   "cell_type": "code",
   "execution_count": 22,
   "id": "75d44441-b5c7-4618-a140-188d43ffd126",
   "metadata": {
    "scrolled": true
   },
   "outputs": [
    {
     "name": "stderr",
     "output_type": "stream",
     "text": [
      "/Users/user/Library/Python/3.8/lib/python/site-packages/statsmodels/base/optimizer.py:736: RuntimeWarning: Maximum number of iterations has been exceeded.\n",
      "  retvals = optimize.fmin(f, start_params, args=fargs, xtol=xtol,\n",
      "/Users/user/Library/Python/3.8/lib/python/site-packages/statsmodels/base/model.py:607: ConvergenceWarning: Maximum Likelihood optimization failed to converge. Check mle_retvals\n",
      "  warnings.warn(\"Maximum Likelihood optimization failed to \"\n"
     ]
    },
    {
     "name": "stdout",
     "output_type": "stream",
     "text": [
      "                           Logit Regression Results                           \n",
      "==============================================================================\n",
      "Dep. Variable:            Gender_male   No. Observations:               148968\n",
      "Model:                          Logit   Df Residuals:                   148596\n",
      "Method:                           MLE   Df Model:                          371\n",
      "Date:                Fri, 31 May 2024   Pseudo R-squ.:                  0.1562\n",
      "Time:                        04:57:53   Log-Likelihood:                -86058.\n",
      "converged:                      False   LL-Null:                   -1.0199e+05\n",
      "Covariance Type:            nonrobust   LLR p-value:                     0.000\n",
      "=============================================================================================\n",
      "                                coef    std err          z      P>|z|      [0.025      0.975]\n",
      "---------------------------------------------------------------------------------------------\n",
      "University Code_25.0         -7.0527      1.020     -6.914      0.000      -9.052      -5.054\n",
      "SpecCode_5B010100            -5.5318      0.585     -9.449      0.000      -6.679      -4.384\n",
      "SpecCode_B002                -3.9279      0.265    -14.803      0.000      -4.448      -3.408\n",
      "SpecCode_5B010200            -3.4262      0.289    -11.850      0.000      -3.993      -2.860\n",
      "SpecCode_B003                -3.2548      0.189    -17.195      0.000      -3.626      -2.884\n",
      "SpecCode_B028                -3.2281      1.023     -3.155      0.002      -5.233      -1.223\n",
      "SpecCode_5B021015            -2.7943      1.034     -2.702      0.007      -4.821      -0.767\n",
      "SpecCode_5B071800             2.7094      0.106     25.656      0.000       2.502       2.916\n",
      "SpecCode_B162                 2.6929      0.766      3.517      0.000       1.192       4.194\n",
      "SpecCode_B167                 2.6742      0.785      3.405      0.001       1.135       4.213\n",
      "SpecCode_B020                -2.6779      0.234    -11.464      0.000      -3.136      -2.220\n",
      "SpecCode_5B071200             2.5869      0.098     26.319      0.000       2.394       2.780\n",
      "SpecCode_B065                 2.6001      0.144     18.096      0.000       2.319       2.882\n",
      "SpecCode_5B074300             2.5409      0.371      6.840      0.000       1.813       3.269\n",
      "SpecCode_5B021019            -2.5099      1.058     -2.372      0.018      -4.584      -0.436\n",
      "SpecCode_5B021014            -2.5120      1.045     -2.403      0.016      -4.561      -0.463\n",
      "SpecCode_5B020726            -2.3100      0.617     -3.744      0.000      -3.519      -1.101\n",
      "SpecCode_5B071300             2.2432      0.086     25.967      0.000       2.074       2.413\n",
      "SpecCode_B062                 2.2196      0.071     31.381      0.000       2.081       2.358\n",
      "SpecCode_5B010500            -2.2291      0.128    -17.457      0.000      -2.479      -1.979\n",
      "SpecCode_B064                 2.0598      0.075     27.549      0.000       1.913       2.206\n",
      "SpecCode_5B074500             2.0554      0.151     13.650      0.000       1.760       2.351\n",
      "SpecCode_5B072400             1.9872      0.079     25.205      0.000       1.833       2.142\n",
      "SpecCode_5B071700             1.9481      0.090     21.623      0.000       1.772       2.125\n",
      "SpecCode_5В071500             1.9580      0.571      3.431      0.001       0.840       3.077\n",
      "SpecCode_5B100200             1.9346      0.151     12.849      0.000       1.640       2.230\n",
      "SpecCode_B271                 1.9270      0.494      3.903      0.000       0.959       2.895\n",
      "SpecCode_B063                 1.8917      0.080     23.748      0.000       1.736       2.048\n",
      "SpecCode_5B021000            -1.9204      0.256     -7.496      0.000      -2.422      -1.418\n",
      "SpecCode_5B070700             1.8719      0.091     20.482      0.000       1.693       2.051\n",
      "SpecCode_5В060200             1.8906      0.776      2.437      0.015       0.370       3.411\n",
      "SpecCode_5В050400            -1.9103      0.672     -2.845      0.004      -3.227      -0.594\n",
      "SpecCode_5B012100            -1.8726      0.257     -7.277      0.000      -2.377      -1.368\n",
      "SpecCode_B071                 1.8255      0.072     25.429      0.000       1.685       1.966\n",
      "SpecCode_B004                 1.8591      0.380      4.890      0.000       1.114       2.604\n",
      "SpecCode_5B070200             1.7795      0.073     24.543      0.000       1.637       1.922\n",
      "SpecCode_5B070800             1.7671      0.090     19.736      0.000       1.592       1.943\n",
      "SpecCode_5B081200             1.7779      0.209      8.521      0.000       1.369       2.187\n",
      "SpecCode_5B070900             1.7566      0.086     20.370      0.000       1.588       1.926\n",
      "SpecCode_5B010400             1.7671      0.277      6.375      0.000       1.224       2.310\n",
      "SpecCode_B005                 1.7700      0.134     13.181      0.000       1.507       2.033\n",
      "SpecCode_B058                 1.7401      0.093     18.656      0.000       1.557       1.923\n",
      "SpecCode_5B071500             1.7460      0.229      7.638      0.000       1.298       2.194\n",
      "University Code_989.0         1.7199      0.911      1.887      0.059      -0.066       3.506\n",
      "SpecCode_5B010300            -1.7240      0.155    -11.124      0.000      -2.028      -1.420\n",
      "SpecCode_5B110100            -1.7140      0.211     -8.130      0.000      -2.127      -1.301\n",
      "SpecCode_B183                 1.7079      0.267      6.388      0.000       1.184       2.232\n",
      "SpecCode_5B072900             1.6663      0.074     22.491      0.000       1.521       1.811\n",
      "SpecCode_B013                -1.6971      0.118    -14.332      0.000      -1.929      -1.465\n",
      "SpecCode_5B011800            -1.6687      0.148    -11.270      0.000      -1.959      -1.378\n",
      "SpecCode_B017                -1.6595      0.111    -14.913      0.000      -1.878      -1.441\n",
      "SpecCode_B001                -1.6453      0.177     -9.272      0.000      -1.993      -1.297\n",
      "SpecCode_B018                -1.6520      0.077    -21.535      0.000      -1.802      -1.502\n",
      "SpecCode_5B041700            -1.6276      0.660     -2.466      0.014      -2.921      -0.334\n",
      "SpecCode_5B080300             1.6116      0.289      5.581      0.000       1.046       2.178\n",
      "SpecCode_5B080600             1.5854      0.101     15.679      0.000       1.387       1.784\n",
      "SpecCode_B037                -1.6001      0.228     -7.006      0.000      -2.048      -1.152\n",
      "SpecCode_5B070600             1.5802      0.099     15.930      0.000       1.386       1.775\n",
      "SpecCode_5B072500             1.5717      0.183      8.567      0.000       1.212       1.931\n",
      "SpecCode_B069                 1.5711      0.267      5.886      0.000       1.048       2.094\n",
      "SpecCode_5B010800             1.5505      0.097     16.021      0.000       1.361       1.740\n",
      "SpecCode_5B060300             1.5499      0.129     12.012      0.000       1.297       1.803\n",
      "SpecCode_B074                 1.4980      0.055     27.199      0.000       1.390       1.606\n",
      "SpecCode_5B070400             1.4780      0.063     23.570      0.000       1.355       1.601\n",
      "SpecCode_5B075200             1.5064      0.134     11.234      0.000       1.244       1.769\n",
      "SpecCode_5B071600             1.4889      0.102     14.550      0.000       1.288       1.689\n",
      "SpecCode_5B011900            -1.5015      0.079    -18.995      0.000      -1.656      -1.347\n",
      "SpecCode_B041                -1.4881      0.144    -10.351      0.000      -1.770      -1.206\n",
      "SpecCode_5B012300            -1.4833      0.122    -12.162      0.000      -1.722      -1.244\n",
      "SpecCode_5B020524            -1.4619      0.319     -4.583      0.000      -2.087      -0.837\n",
      "SpecCode_5B050300            -1.4603      0.192     -7.590      0.000      -1.837      -1.083\n",
      "SpecCode_5B012200            -1.4434      0.226     -6.390      0.000      -1.886      -1.001\n",
      "SpecCode_5B021022            -1.4245      1.132     -1.259      0.208      -3.643       0.794\n",
      "SpecCode_B070                -1.4083      0.126    -11.142      0.000      -1.656      -1.161\n",
      "SpecCode_B016                -1.4021      0.110    -12.754      0.000      -1.618      -1.187\n",
      "SpecCode_5B074600             1.3855      0.139      9.994      0.000       1.114       1.657\n",
      "SpecCode_5B090100             1.3731      0.127     10.845      0.000       1.125       1.621\n",
      "SpecCode_B067                 1.3273      0.150      8.868      0.000       1.034       1.621\n",
      "SpecCode_5B030400             1.3300      0.403      3.297      0.001       0.539       2.121\n",
      "University Code_503.0         1.3064      0.181      7.220      0.000       0.952       1.661\n",
      "SpecCode_5B020100             1.3021      0.257      5.075      0.000       0.799       1.805\n",
      "SpecCode_5B021017            -1.3075      0.517     -2.531      0.011      -2.320      -0.295\n",
      "SpecCode_B081                 1.2747      0.200      6.366      0.000       0.882       1.667\n",
      "SpecCode_B066                 1.2727      0.281      4.531      0.000       0.722       1.823\n",
      "SpecCode_B031                -1.2667      0.156     -8.134      0.000      -1.572      -0.961\n",
      "SpecCode_5B011700            -1.2664      0.086    -14.730      0.000      -1.435      -1.098\n",
      "SpecCode_5B073000             1.2442      0.100     12.483      0.000       1.049       1.440\n",
      "SpecCode_5B042100            -1.2461      0.224     -5.557      0.000      -1.686      -0.807\n",
      "SpecCode_B056                 1.2334      0.164      7.539      0.000       0.913       1.554\n",
      "SpecCode_5B011200            -1.2333      0.106    -11.613      0.000      -1.441      -1.025\n",
      "SpecCode_5B071900             1.1838      0.065     18.243      0.000       1.057       1.311\n",
      "SpecCode_B057                 1.1615      0.053     21.863      0.000       1.057       1.266\n",
      "SpecCode_B012                -1.1888      0.088    -13.487      0.000      -1.362      -1.016\n",
      "SpecCode_5B040900            -0.9784      0.515     -1.900      0.057      -1.988       0.031\n",
      "SpecCode_B030                -1.1676      0.335     -3.485      0.000      -1.824      -0.511\n",
      "SpecCode_5B021016            -1.1648      0.261     -4.466      0.000      -1.676      -0.654\n",
      "SpecCode_5B070300             1.1266      0.061     18.377      0.000       1.006       1.247\n",
      "SpecCode_5B011300            -1.1407      0.099    -11.496      0.000      -1.335      -0.946\n",
      "SpecCode_5B073800             1.1176      0.196      5.702      0.000       0.733       1.502\n",
      "SpecCode_5B071100             1.1121      0.091     12.251      0.000       0.934       1.290\n",
      "SpecCode_5B021500             1.1073      0.205      5.391      0.000       0.705       1.510\n",
      "SpecCode_B034                 1.1040      0.157      7.010      0.000       0.795       1.413\n",
      "SpecCode_5B072300             1.0986      0.129      8.543      0.000       0.847       1.351\n",
      "SpecCode_5B073100             1.0970      0.098     11.157      0.000       0.904       1.290\n",
      "SpecCode_5В070300             1.0981      0.390      2.815      0.005       0.334       1.863\n",
      "SpecCode_24.05.03             1.0938      1.048      1.043      0.297      -0.961       3.149\n",
      "SpecCode_B059                 1.0827      0.090     11.987      0.000       0.906       1.260\n",
      "SpecCode_B084                -1.0907      0.369     -2.957      0.003      -1.814      -0.368\n",
      "SpecCode_5B012500            -1.0822      0.140     -7.707      0.000      -1.357      -0.807\n",
      "SpecCode_5B060500             1.0757      0.110      9.738      0.000       0.859       1.292\n",
      "SpecCode_5В070200             1.0782      0.493      2.188      0.029       0.112       2.044\n",
      "SpecCode_5B020800             1.0799      0.237      4.552      0.000       0.615       1.545\n",
      "SpecCode_5B051000             1.0601      0.177      5.987      0.000       0.713       1.407\n",
      "University Code_17.0          1.0391      0.695      1.496      0.135      -0.322       2.401\n",
      "SpecCode_B049                 1.0324      0.177      5.843      0.000       0.686       1.379\n",
      "SpecCode_5B060200             1.0260      0.085     12.005      0.000       0.859       1.194\n",
      "SpecCode_B042                -1.0274      0.151     -6.819      0.000      -1.323      -0.732\n",
      "SpecCode_B171                 1.0089      0.633      1.594      0.111      -0.232       2.249\n",
      "SpecCode_B036                -1.0025      0.109     -9.198      0.000      -1.216      -0.789\n",
      "SpecCode_5B011500             0.9989      0.268      3.721      0.000       0.473       1.525\n",
      "SpecCode_5B021200            -1.0041      0.406     -2.472      0.013      -1.800      -0.208\n",
      "SpecCode_B068                -0.9937      0.062    -16.034      0.000      -1.115      -0.872\n",
      "SpecCode_5B020900            -0.9760      0.246     -3.973      0.000      -1.458      -0.494\n",
      "SpecCode_5B012900             0.9650      0.170      5.676      0.000       0.632       1.298\n",
      "SpecCode_B019                -0.9651      0.166     -5.822      0.000      -1.290      -0.640\n",
      "SpecCode_5B020500            -0.9554      0.146     -6.542      0.000      -1.242      -0.669\n",
      "SpecCode_5B091000            -0.9466      0.211     -4.489      0.000      -1.360      -0.533\n",
      "SpecCode_5B080700             0.9293      0.134      6.913      0.000       0.666       1.193\n",
      "University Code_200.0        -0.9238      1.461     -0.632      0.527      -3.788       1.940\n",
      "SpecCode_5B051500             0.9237      0.213      4.333      0.000       0.506       1.341\n",
      "SpecCode_5B020600             0.9127      0.132      6.935      0.000       0.655       1.171\n",
      "SpecCode_5В011100             0.9097      0.392      2.321      0.020       0.141       1.678\n",
      "SpecCode_5B021021            -0.8984      0.544     -1.652      0.099      -1.964       0.167\n",
      "SpecCode_5B080900            -0.9028      0.199     -4.528      0.000      -1.294      -0.512\n",
      "SpecCode_5B020300             0.8918      0.137      6.487      0.000       0.622       1.161\n",
      "SpecCode_5B071400             0.8904      0.223      3.998      0.000       0.454       1.327\n",
      "SpecCode_B094                 0.8874      0.099      8.949      0.000       0.693       1.082\n",
      "SpecCode_5B072700            -0.8942      0.075    -11.924      0.000      -1.041      -0.747\n",
      "SpecCode_5B080500             0.8796      0.096      9.148      0.000       0.691       1.068\n",
      "SpecCode_B088                -0.8843      0.161     -5.478      0.000      -1.201      -0.568\n",
      "University Code_158.0         0.8807      0.290      3.033      0.002       0.312       1.450\n",
      "University Code_20.0          0.8747      0.123      7.124      0.000       0.634       1.115\n",
      "SpecCode_5B011400             0.8733      0.135      6.472      0.000       0.609       1.138\n",
      "University Code_419.0        -0.8791      0.422     -2.082      0.037      -1.707      -0.052\n",
      "SpecCode_5B040600             0.8682      0.392      2.213      0.027       0.099       1.637\n",
      "SpecCode_5B075000             0.8545      0.631      1.353      0.176      -0.383       2.092\n",
      "SpecCode_5B072800            -0.8537      0.088     -9.663      0.000      -1.027      -0.681\n",
      "SpecCode_5B020700            -0.8263      0.166     -4.982      0.000      -1.151      -0.501\n",
      "SpecCode_5В070400             0.8221      0.350      2.348      0.019       0.136       1.509\n",
      "SpecCode_B014                 0.8170      0.161      5.090      0.000       0.502       1.132\n",
      "SpecCode_5B081100            -0.8154      0.106     -7.664      0.000      -1.024      -0.607\n",
      "SpecCode_5B060700            -0.8166      0.086     -9.443      0.000      -0.986      -0.647\n",
      "SpecCode_5B030100             0.7895      0.180      4.385      0.000       0.437       1.142\n",
      "University Code_186.0        -0.7878      1.246     -0.632      0.527      -3.230       1.654\n",
      "SpecCode_5B041900             0.7675      0.190      4.035      0.000       0.395       1.140\n",
      "SpecCode_5B080800            -0.7638      0.121     -6.295      0.000      -1.002      -0.526\n",
      "SpecCode_5B071000             0.7587      0.129      5.871      0.000       0.505       1.012\n",
      "SpecCode_B090                -0.7598      0.197     -3.851      0.000      -1.146      -0.373\n",
      "SpecCode_5B061000             0.7545      0.130      5.784      0.000       0.499       1.010\n",
      "SpecCode_5В100200             0.7309      0.505      1.449      0.147      -0.258       1.720\n",
      "SpecCode_38.03.02            -0.7305      1.061     -0.689      0.491      -2.810       1.349\n",
      "SpecCode_5B110400            -0.7178      0.223     -3.215      0.001      -1.155      -0.280\n",
      "SpecCode_B053                -0.7087      0.077     -9.201      0.000      -0.860      -0.558\n",
      "SpecCode_B032                 0.7037      0.166      4.229      0.000       0.378       1.030\n",
      "SpecCode_B015                 0.6913      0.122      5.682      0.000       0.453       0.930\n",
      "SpecCode_5B070500             0.6889      0.080      8.648      0.000       0.533       0.845\n",
      "SpecCode_5B013000             0.6945      0.167      4.157      0.000       0.367       1.022\n",
      "University Code_157.0         0.6727      0.199      3.388      0.001       0.284       1.062\n",
      "University Code_48.0          0.6675      1.222      0.546      0.585      -1.727       3.062\n",
      "SpecCode_5В011300            -0.6656      0.233     -2.856      0.004      -1.122      -0.209\n",
      "SpecCode_5В011200            -0.6641      0.447     -1.485      0.137      -1.541       0.212\n",
      "University Code_137.0        -0.6532      1.707     -0.383      0.702      -3.999       2.692\n",
      "SpecCode_B043                -0.6547      0.222     -2.951      0.003      -1.090      -0.220\n",
      "SpecCode_B048                -0.6849      0.381     -1.797      0.072      -1.432       0.062\n",
      "SpecCode_B035                -0.6334      0.180     -3.511      0.000      -0.987      -0.280\n",
      "SpecCode_B060                 0.6290      0.127      4.969      0.000       0.381       0.877\n",
      "SpecCode_5B090900             0.6184      0.118      5.229      0.000       0.387       0.850\n",
      "SpecCode_5B051300            -0.6203      0.226     -2.742      0.006      -1.064      -0.177\n",
      "SpecCode_5B021020            -0.6079      0.574     -1.059      0.289      -1.733       0.517\n",
      "SpecCode_5B011924            -0.6009      0.740     -0.812      0.417      -2.051       0.850\n",
      "SpecCode_B091                -0.6017      0.083     -7.231      0.000      -0.765      -0.439\n",
      "SpecCode_5B050400            -0.5993      0.140     -4.268      0.000      -0.875      -0.324\n",
      "SpecCode_5B021018            -0.5871      0.739     -0.794      0.427      -2.035       0.861\n",
      "University Code_78.0          0.5788      0.324      1.784      0.074      -0.057       1.215\n",
      "SpecCode_5B130300            -0.5738      0.156     -3.678      0.000      -0.880      -0.268\n",
      "University Code_161.0        -0.5616      0.433     -1.296      0.195      -1.411       0.288\n",
      "SpecCode_B039                -0.5586      0.259     -2.155      0.031      -1.067      -0.051\n",
      "SpecCode_B093                -0.5444      0.099     -5.482      0.000      -0.739      -0.350\n",
      "SpecCode_B029                -0.5348      0.214     -2.496      0.013      -0.955      -0.115\n",
      "SpecCode_B075                 0.5258      0.070      7.522      0.000       0.389       0.663\n",
      "University Code_141.0         0.5200      0.333      1.560      0.119      -0.133       1.173\n",
      "SpecCode_5B072200            -0.5187      0.442     -1.175      0.240      -1.384       0.347\n",
      "University Code_15.0          0.5150      0.128      4.035      0.000       0.265       0.765\n",
      "SpecCode_B085                -0.5173      0.223     -2.320      0.020      -0.954      -0.080\n",
      "SpecCode_5B010700            -0.5096      0.210     -2.431      0.015      -0.920      -0.099\n",
      "SpecCode_5B120100             0.4971      0.069      7.240      0.000       0.362       0.632\n",
      "SpecCode_B021                -0.4996      0.628     -0.795      0.427      -1.731       0.732\n",
      "SpecCode_5B030300             0.4986      0.364      1.370      0.171      -0.215       1.212\n",
      "University Code_185.0         0.4971      0.237      2.100      0.036       0.033       0.961\n",
      "SpecCode_5B075300             0.4947      0.256      1.930      0.054      -0.008       0.997\n",
      "University Code_47.0          0.4927      0.446      1.106      0.269      -0.381       1.366\n",
      "University Code_40.0          0.4896      0.058      8.448      0.000       0.376       0.603\n",
      "SpecCode_5B110200            -0.4872      0.150     -3.256      0.001      -0.780      -0.194\n",
      "SpecCode_B033                 0.4892      0.139      3.515      0.000       0.216       0.762\n",
      "SpecCode_B007                -0.4829      0.219     -2.207      0.027      -0.912      -0.054\n",
      "SpecCode_5B090300             0.4650      0.156      2.989      0.003       0.160       0.770\n",
      "SpecCode_5B050500            -0.4657      0.187     -2.492      0.013      -0.832      -0.099\n",
      "SpecCode_5B070100            -0.4577      0.063     -7.312      0.000      -0.580      -0.335\n",
      "SpecCode_5B110300            -0.4543      0.150     -3.019      0.003      -0.749      -0.159\n",
      "SpecCode_5B042200            -0.4510      0.405     -1.114      0.265      -1.245       0.343\n",
      "SpecCode_5B041200             0.4459      0.819      0.544      0.586      -1.159       2.051\n",
      "SpecCode_B050                -0.4456      0.068     -6.510      0.000      -0.580      -0.311\n",
      "SpecCode_5B012600            -0.4415      0.173     -2.546      0.011      -0.781      -0.102\n",
      "SpecCode_5B074800            -0.4394      0.090     -4.891      0.000      -0.615      -0.263\n",
      "SpecCode_B095                 0.4312      0.087      4.965      0.000       0.261       0.601\n",
      "SpecCode_5B090700             0.4299      0.161      2.664      0.008       0.114       0.746\n",
      "University Code_103.0         0.4280      2.008      0.213      0.831      -3.507       4.363\n",
      "SpecCode_5B020200            -0.4276      0.236     -1.813      0.070      -0.890       0.035\n",
      "University Code_194.0         0.4230      0.733      0.577      0.564      -1.014       1.860\n",
      "University Code_8.0           0.4214      0.099      4.240      0.000       0.227       0.616\n",
      "SpecCode_5B011600            -0.4217      0.186     -2.263      0.024      -0.787      -0.057\n",
      "University Code_36.0          0.4096      0.074      5.522      0.000       0.264       0.555\n",
      "SpecCode_5B050100             0.4074      0.163      2.497      0.013       0.088       0.727\n",
      "SpecCode_B082                 0.3894      0.165      2.359      0.018       0.066       0.713\n",
      "SpecCode_B072                -0.3894      0.068     -5.705      0.000      -0.523      -0.256\n",
      "SpecCode_5B010600             0.3855      0.193      1.994      0.046       0.007       0.764\n",
      "SpecCode_B044                 0.3843      0.099      3.877      0.000       0.190       0.579\n",
      "University Code_190.0         0.3842      0.144      2.664      0.008       0.102       0.667\n",
      "SpecCode_B140                -0.3866      0.246     -1.572      0.116      -0.869       0.095\n",
      "SpecCode_B083                 0.3758      0.073      5.173      0.000       0.233       0.518\n",
      "University Code_223.0         0.3747      0.421      0.890      0.374      -0.451       1.200\n",
      "SpecCode_5B041400             0.3739      0.523      0.715      0.474      -0.651       1.398\n",
      "SpecCode_B077                -0.3683      0.076     -4.871      0.000      -0.516      -0.220\n",
      "University Code_93.0          0.3610      0.157      2.302      0.021       0.054       0.668\n",
      "University Code_50.0          0.3593      0.502      0.716      0.474      -0.625       1.343\n",
      "SpecCode_5B021100             0.3453      0.283      1.221      0.222      -0.209       0.899\n",
      "University Code_302.0         0.3386      0.053      6.341      0.000       0.234       0.443\n",
      "University Code_184.0         0.3298      0.368      0.896      0.370      -0.391       1.051\n",
      "SpecCode_B092                -0.3313      0.116     -2.865      0.004      -0.558      -0.105\n",
      "SpecCode_5B050700            -0.3246      0.153     -2.121      0.034      -0.625      -0.025\n",
      "SpecCode_5B051200             0.3268      0.246      1.329      0.184      -0.155       0.809\n",
      "SpecCode_B025                -0.3256      0.565     -0.576      0.564      -1.433       0.782\n",
      "University Code_83.0         -0.3199      0.092     -3.484      0.000      -0.500      -0.140\n",
      "SpecCode_B073                 0.3144      0.078      4.032      0.000       0.162       0.467\n",
      "SpecCode_5B060600            -0.3172      0.121     -2.626      0.009      -0.554      -0.080\n",
      "SpecCode_B087                -0.3104      0.347     -0.895      0.371      -0.990       0.369\n",
      "SpecCode_5B040200            -0.3061      0.494     -0.619      0.536      -1.275       0.663\n",
      "University Code_49.0         -0.3021      0.193     -1.564      0.118      -0.681       0.077\n",
      "SpecCode_5B012700            -0.2988      0.180     -1.662      0.097      -0.651       0.054\n",
      "University Code_160.0        -0.2947      0.304     -0.969      0.332      -0.891       0.301\n",
      "SpecCode_5B090200            -0.2948      0.072     -4.101      0.000      -0.436      -0.154\n",
      "University Code_19.0          0.2902      0.086      3.388      0.001       0.122       0.458\n",
      "University Code_516.0         0.2905      0.085      3.407      0.001       0.123       0.458\n",
      "SpecCode_5B050200             0.2872      0.162      1.767      0.077      -0.031       0.606\n",
      "SpecCode_B061                 0.2871      0.168      1.705      0.088      -0.043       0.617\n",
      "SpecCode_5B021013            -0.2802      0.459     -0.611      0.541      -1.179       0.619\n",
      "SpecCode_5B080400             0.2754      0.185      1.487      0.137      -0.088       0.638\n",
      "SpecCode_5B080200            -0.2643      0.079     -3.363      0.001      -0.418      -0.110\n",
      "SpecCode_5B081000             0.2615      0.177      1.475      0.140      -0.086       0.609\n",
      "SpecCode_B038                -0.2588      0.174     -1.486      0.137      -0.600       0.083\n",
      "SpecCode_09.03.04             0.2495      1.190      0.210      0.834      -2.084       2.583\n",
      "University Code_162.0        -0.2472      0.249     -0.993      0.321      -0.735       0.241\n",
      "SpecCode_5B072100             0.2395      0.090      2.657      0.008       0.063       0.416\n",
      "University Code_37.0          0.2422      0.057      4.240      0.000       0.130       0.354\n",
      "SpecCode_B076                -0.2438      0.094     -2.598      0.009      -0.428      -0.060\n",
      "University Code_501.0         0.2360      0.061      3.896      0.000       0.117       0.355\n",
      "University Code_43.0          0.2355      0.066      3.591      0.000       0.107       0.364\n",
      "SpecCode_B051                -0.2324      0.088     -2.649      0.008      -0.404      -0.060\n",
      "University Code_35.0          0.2304      0.067      3.445      0.001       0.099       0.362\n",
      "SpecCode_5B050600             0.2297      0.131      1.758      0.079      -0.026       0.486\n",
      "University Code_16.0          0.2283      0.072      3.184      0.001       0.088       0.369\n",
      "SpecCode_5B010900            -0.2283      0.081     -2.806      0.005      -0.388      -0.069\n",
      "SpecCode_5B011000            -0.2265      0.091     -2.479      0.013      -0.406      -0.047\n",
      "SpecCode_B040                -0.2260      0.149     -1.521      0.128      -0.517       0.065\n",
      "University Code_146.0         0.2247      0.120      1.868      0.062      -0.011       0.460\n",
      "University Code_140.0         0.2187      0.350      0.624      0.533      -0.468       0.906\n",
      "SpecCode_5B080100             0.2159      0.074      2.911      0.004       0.071       0.361\n",
      "University Code_517.0         0.2142      0.079      2.721      0.007       0.060       0.368\n",
      "SpecCode_5B040300             0.2130      0.492      0.433      0.665      -0.752       1.178\n",
      "University Code_9.0           0.2109      0.108      1.947      0.051      -0.001       0.423\n",
      "SpecCode_5B012000            -0.2110      0.084     -2.524      0.012      -0.375      -0.047\n",
      "SpecCode_5B060800            -0.2090      0.088     -2.382      0.017      -0.381      -0.037\n",
      "University Code_82.0         -0.2079      0.287     -0.725      0.469      -0.770       0.354\n",
      "University Code_191.0         0.2076      0.250      0.831      0.406      -0.282       0.697\n",
      "University Code_3.0           0.2058      0.113      1.827      0.068      -0.015       0.427\n",
      "SpecCode_B046                 0.2019      0.113      1.793      0.073      -0.019       0.423\n",
      "SpecCode_5B051900            -0.1985      0.284     -0.700      0.484      -0.754       0.357\n",
      "University Code_45.0          0.1962      0.039      5.079      0.000       0.120       0.272\n",
      "University Code_173.0         0.1947      0.336      0.579      0.563      -0.465       0.854\n",
      "SpecCode_B047                -0.1957      0.182     -1.073      0.283      -0.553       0.162\n",
      "SpecCode_5B073700             0.1904      0.208      0.917      0.359      -0.216       0.597\n",
      "University Code_79.0         -0.1903      0.398     -0.478      0.632      -0.970       0.590\n",
      "University Code_33.0          0.1893      0.130      1.459      0.145      -0.065       0.444\n",
      "SpecCode_5B060400             0.1854      0.090      2.068      0.039       0.010       0.361\n",
      "SpecCode_B089                -0.1861      0.170     -1.097      0.272      -0.518       0.146\n",
      "University Code_416.0         0.1834      0.280      0.656      0.512      -0.364       0.731\n",
      "University Code_39.0          0.1807      0.155      1.167      0.243      -0.123       0.484\n",
      "University Code_57.0          0.1783      0.055      3.233      0.001       0.070       0.286\n",
      "SpecCode_5B091200            -0.1786      0.102     -1.756      0.079      -0.378       0.021\n",
      "before2017                   -0.1767      0.019     -9.465      0.000      -0.213      -0.140\n",
      "SpecCode_5B020725            -0.1703      0.330     -0.516      0.606      -0.818       0.477\n",
      "SpecCode_5B060100             0.1689      0.084      2.002      0.045       0.004       0.334\n",
      "SpecCode_5B051400            -0.1661      0.197     -0.843      0.399      -0.552       0.220\n",
      "University Code_122.0        -0.1635      0.179     -0.911      0.362      -0.515       0.188\n",
      "SpecCode_B009                -0.1593      0.076     -2.108      0.035      -0.307      -0.011\n",
      "SpecCode_5B030200             0.1579      0.205      0.770      0.441      -0.244       0.560\n",
      "SpecCode_B086                -0.1586      0.058     -2.742      0.006      -0.272      -0.045\n",
      "SpecCode_5B011100             0.1563      0.090      1.732      0.083      -0.021       0.333\n",
      "SpecCode_5B061200             0.1547      0.136      1.139      0.255      -0.112       0.421\n",
      "University Code_30.0          0.1537      0.055      2.789      0.005       0.046       0.262\n",
      "University Code_27.0         -0.1557      0.036     -4.269      0.000      -0.227      -0.084\n",
      "University Code_31.0         -0.1518      0.055     -2.762      0.006      -0.260      -0.044\n",
      "SpecCode_5B061100             0.1515      0.124      1.225      0.221      -0.091       0.394\n",
      "SpecCode_5B072000            -0.1490      0.106     -1.399      0.162      -0.358       0.060\n",
      "University Code_5.0           0.1480      0.053      2.782      0.005       0.044       0.252\n",
      "University Code_38.0          0.1448      0.054      2.666      0.008       0.038       0.251\n",
      "SpecCode_B006                 0.1440      0.207      0.696      0.486      -0.261       0.549\n",
      "SpecCode_B011                 0.1427      0.118      1.212      0.226      -0.088       0.373\n",
      "University Code_182.0         0.1397      0.187      0.749      0.454      -0.226       0.505\n",
      "Score                        -0.1490      0.047     -3.190      0.001      -0.241      -0.057\n",
      "University Code_80.0          0.1335      0.080      1.664      0.096      -0.024       0.291\n",
      "SpecCode_5B050900            -0.1314      0.142     -0.927      0.354      -0.409       0.146\n",
      "University Code_24.0          0.1283      0.047      2.738      0.006       0.036       0.220\n",
      "University Code_515.0         0.1287      0.084      1.538      0.124      -0.035       0.293\n",
      "SpecCode_5B050800            -0.1285      0.146     -0.879      0.379      -0.415       0.158\n",
      "SpecCode_5B012800             0.1157      0.202      0.573      0.567      -0.280       0.512\n",
      "SpecCode_5B052100             0.1093      0.195      0.559      0.576      -0.274       0.492\n",
      "SpecCode_B078                -0.1098      0.131     -0.840      0.401      -0.366       0.146\n",
      "University Code_7.0          -0.1077      0.049     -2.181      0.029      -0.205      -0.011\n",
      "SpecCode_5B090400            -0.1037      0.296     -0.350      0.726      -0.685       0.477\n",
      "University Code_14.0         -0.0974      0.192     -0.507      0.612      -0.474       0.280\n",
      "University Code_174.0        -0.0968      0.125     -0.777      0.437      -0.341       0.148\n",
      "University Code_2.0           0.0949      0.043      2.217      0.027       0.011       0.179\n",
      "SpecCode_5B130100             0.0921      0.052      1.761      0.078      -0.010       0.195\n",
      "University Code_23.0         -0.0845      0.087     -0.968      0.333      -0.256       0.087\n",
      "SpecCode_5B042000             0.0822      0.164      0.502      0.616      -0.239       0.403\n",
      "SpecCode_09.03.01             0.0820      1.098      0.075      0.941      -2.071       2.235\n",
      "University Code_12.0          0.0816      0.062      1.317      0.188      -0.040       0.203\n",
      "SpecCode_5B011923             0.0804      0.582      0.138      0.890      -1.060       1.221\n",
      "University Code_22.0          0.0792      0.068      1.160      0.246      -0.055       0.213\n",
      "SpecCode_5B090800             0.0781      0.148      0.529      0.596      -0.211       0.367\n",
      "SpecCode_B045                -0.0743      0.144     -0.517      0.605      -0.356       0.208\n",
      "SpecCode_5B020400            -0.0680      0.279     -0.244      0.807      -0.615       0.479\n",
      "University Code_196.0         0.0679      0.072      0.938      0.348      -0.074       0.210\n",
      "University Code_147.0         0.0649      0.162      0.401      0.688      -0.252       0.382\n",
      "SpecCode_B052                 0.0642      0.084      0.765      0.444      -0.100       0.229\n",
      "SpecCode_B054                -0.0634      0.065     -0.975      0.330      -0.191       0.064\n",
      "SpecCode_B055                -0.0620      0.073     -0.844      0.399      -0.206       0.082\n",
      "University Code_21.0          0.0598      0.078      0.772      0.440      -0.092       0.212\n",
      "SpecCode_B010                -0.0567      0.085     -0.663      0.507      -0.224       0.111\n",
      "University Code_26.0         -0.0555      0.051     -1.090      0.276      -0.155       0.044\n",
      "University Code_32.0         -0.0545      0.053     -1.033      0.301      -0.158       0.049\n",
      "SpecCode_5B073200            -0.0539      0.097     -0.554      0.579      -0.245       0.137\n",
      "SpecCode_B079                -0.0516      0.083     -0.619      0.536      -0.215       0.112\n",
      "University Code_29.0          0.0477      0.043      1.106      0.269      -0.037       0.132\n",
      "University Code_13.0          0.0450      0.038      1.182      0.237      -0.030       0.120\n",
      "Competition_village quota    -0.0454      0.018     -2.513      0.012      -0.081      -0.010\n",
      "University Code_421.0         0.0381      0.095      0.402      0.687      -0.147       0.224\n",
      "University Code_4.0           0.0375      0.063      0.591      0.554      -0.087       0.162\n",
      "University Code_11.0          0.0373      0.073      0.514      0.608      -0.105       0.180\n",
      "SpecCode_5B051100             0.0349      0.161      0.217      0.828      -0.280       0.350\n",
      "University Code_34.0         -0.0295      0.083     -0.356      0.721      -0.192       0.133\n",
      "SpecCode_5B130200            -0.0284      0.176     -0.161      0.872      -0.374       0.318\n",
      "University Code_41.0          0.0261      0.061      0.430      0.667      -0.093       0.145\n",
      "University Code_198.0         0.0235      0.389      0.060      0.952      -0.739       0.786\n",
      "University Code_44.0          0.0225      0.076      0.295      0.768      -0.127       0.172\n",
      "University Code_69.0         -0.0225      0.081     -0.276      0.783      -0.182       0.137\n",
      "SpecCode_5B090500            -0.0204      0.103     -0.197      0.844      -0.223       0.182\n",
      "University Code_10.0         -0.0188      0.098     -0.193      0.847      -0.211       0.173\n",
      "SpecCode_5B090600             0.0184      0.149      0.123      0.902      -0.274       0.311\n",
      "SpecCode_5B120200            -0.0172      0.098     -0.176      0.860      -0.209       0.174\n",
      "SpecCode_B080                -0.0117      0.240     -0.049      0.961      -0.481       0.458\n",
      "=============================================================================================\n"
     ]
    }
   ],
   "source": [
    "neat_model = sm.Logit(y_tr, x_tr[truly_important.keys()]).fit(maxiter=5000, start_params=list(truly_important.values()), method='nm')\n",
    "print(neat_model.summary())"
   ]
  },
  {
   "cell_type": "code",
   "execution_count": 23,
   "id": "eac2c909-0f54-461e-b817-90a9a378302f",
   "metadata": {},
   "outputs": [
    {
     "name": "stdout",
     "output_type": "stream",
     "text": [
      "test sample\n",
      "              precision    recall  f1-score   support\n",
      "\n",
      "         0.0       0.81      0.65      0.72     21076\n",
      "         1.0       0.64      0.80      0.71     16167\n",
      "\n",
      "    accuracy                           0.72     37243\n",
      "   macro avg       0.72      0.73      0.72     37243\n",
      "weighted avg       0.73      0.72      0.72     37243\n",
      "\n",
      "train sample\n",
      "              precision    recall  f1-score   support\n",
      "\n",
      "         0.0       0.81      0.65      0.72     84193\n",
      "         1.0       0.64      0.80      0.71     64775\n",
      "\n",
      "    accuracy                           0.71    148968\n",
      "   macro avg       0.72      0.72      0.71    148968\n",
      "weighted avg       0.73      0.71      0.71    148968\n",
      "\n"
     ]
    }
   ],
   "source": [
    "y_pred_proba = neat_model.predict(x_t[truly_important.keys()])\n",
    "y_pred = (y_pred_proba>=0.5).astype(int)\n",
    "print('test sample')\n",
    "print(classification_report(y_t, y_pred))\n",
    "y_pred_proba = neat_model.predict(x_tr[truly_important.keys()])\n",
    "y_pred = (y_pred_proba>=0.5).astype(int)\n",
    "print('train sample')\n",
    "print(classification_report(y_tr, y_pred))"
   ]
  },
  {
   "cell_type": "code",
   "execution_count": 24,
   "id": "cffc5b37-553e-4add-b48e-0aed137aaed3",
   "metadata": {},
   "outputs": [],
   "source": [
    "pvals_dict = dict(neat_model.pvalues)\n",
    "coefs_dict = dict(neat_model.params)\n",
    "spec_dict = {row['SpecCode']: row['Specialization'] for i,row in gendered_df[['Specialization', 'SpecCode']].drop_duplicates().iterrows()}"
   ]
  },
  {
   "cell_type": "code",
   "execution_count": 25,
   "id": "1dd98d29-b689-4126-b176-c1dca1c4d683",
   "metadata": {},
   "outputs": [
    {
     "name": "stdout",
     "output_type": "stream",
     "text": [
      "University Code_989.0 is important but not stat significant\n",
      "5B021022 - Шетел филологиясы: француз тілі is important but not stat significant\n",
      "24.05.03 - Ұшатын аппараттарды сынау is important but not stat significant\n",
      "University Code_17.0 is important but not stat significant\n",
      "B171 - Металлургия is important but not stat significant\n"
     ]
    }
   ],
   "source": [
    "important_feats = {}\n",
    "for feat, coef in coefs_dict.items():\n",
    "    if abs(coef)<1:\n",
    "        continue\n",
    "    if 'SpecCode_' in feat:\n",
    "        spec_code = feat[9:]\n",
    "        spec_name = spec_dict[spec_code]\n",
    "        feat_p = pvals_dict[feat]\n",
    "        if feat_p > 0.05:\n",
    "            print('{} is important but not stat significant'.format(spec_name))\n",
    "            continue\n",
    "        else:\n",
    "            important_feats[spec_name] = coef\n",
    "    else:\n",
    "        feat_p = pvals_dict[feat]\n",
    "        if feat_p > 0.05:\n",
    "            print('{} is important but not stat significant'.format(feat))\n",
    "            continue\n",
    "        else:\n",
    "            important_feats[feat] = coef\n",
    "important_feats = dict(sorted(important_feats.items(), reverse=True, key=lambda x: abs(x[1])))"
   ]
  },
  {
   "cell_type": "code",
   "execution_count": 26,
   "id": "619fe4bd-9e6e-45ce-896d-482042ebaf7a",
   "metadata": {},
   "outputs": [
    {
     "data": {
      "text/plain": [
       "{'University Code_25.0': -7.0527087275027895,\n",
       " '5B010100 - Мектепке дейінгі оқыту және тәрбиелеу': -5.5318247609286,\n",
       " 'B002 - Дошкольное обучение и воспитание': -3.9279476195863783,\n",
       " '5B010200 - Бастауышта оқыту педагогикасы мен әдістемесі': -3.426184401265468,\n",
       " 'B003 - Педагогика и методика начального обучения': -3.2547820904030296,\n",
       " 'B028 - Хореография': -3.2280902110811667,\n",
       " '5B021015 - Шетел филологиясы: корей тілі': -2.7943336239508394,\n",
       " '5B071800 - Электр энергетикасы': 2.7093853602671683,\n",
       " 'B162 - Теплоэнергетика': 2.6928578394502765,\n",
       " 'B020 - Специальная педагогика': -2.6779163495031106,\n",
       " 'B167 - Летная эксплуатация летательных аппаратов и двигателей': 2.6742415662201253,\n",
       " 'B065 - Автотранспортные средства': 2.600126634601578,\n",
       " '5B071200 - Машина жасау': 2.5869396710254033,\n",
       " '5B074300 - Ұшатын аппараттар мен қозғалтқыштарды ұшуда пайдалану': 2.5408820304043953,\n",
       " '5B021014 - Шетел филологиясы: түрік тілі': -2.512000625252969,\n",
       " '5B021019 - Шетел филологиясы: өзбек тілі': -2.509935587404427,\n",
       " '5B020726 - Аударма ісі (қазақ тілінен басқа тілдерге және керісінше синхроншы-аудармашылар)': -2.3100460120268664,\n",
       " '5B071300 - Көлік, көліктік техника және технологиялар': 2.2432075014328783,\n",
       " '5B010500 - Дефектология': -2.2290553496553427,\n",
       " 'B062 - Электротехника и энергетика': 2.2196215866594287,\n",
       " 'B064 - Механика и металлообработка': 2.0597642111927392,\n",
       " '5B074500 - Көлік құрылысы': 2.0554395225790856,\n",
       " '5B072400 - Технологиялық машиналар және жабдықтар (сала бойынша)': 1.9872255253560889,\n",
       " '5В071500 - Теңіз техникасы және технологиясы': 1.9580280457370787,\n",
       " '5B071700 - Жылу энергетикасы': 1.9481354580782106,\n",
       " '5B100200 - Ақпараттық қауіпсіздік жүйелері': 1.934617003286867,\n",
       " 'B271 - Нефтегазовое дело': 1.9270253432766005,\n",
       " '5B021000 - Шетел филологиясы: ағылшын тілі': -1.920354703406682,\n",
       " '5В050400 Журналистика': -1.9103420463391112,\n",
       " 'B063 - Электротехника и автоматизация': 1.8917113515285449,\n",
       " '5В060200 Информатика': 1.8906016139212056,\n",
       " '5B012100 - Қазақ тілінде оқытпайтын мектептердегі қазақ тілі мен әдебиеті': -1.8726472806411776,\n",
       " '5B070700 - Тау-кен ісі': 1.871939652889818,\n",
       " 'B004 - Подготовка учителей начальной военной подготовки': 1.8591161236388647,\n",
       " 'B071 - Горное дело и добыча полезных ископаемых': 1.825484280742348,\n",
       " '5B070200 - Автоматтандыру және басқару': 1.7794659927472,\n",
       " '5B081200 - Ауыл шаруашылығын энергиямен қамтамасыз ету': 1.7778644846951117,\n",
       " 'B005 - Подготовка учителей физической культуры': 1.769961179775449,\n",
       " '5B010400 - Бастапқы әскери дайындық': 1.7671067703052596,\n",
       " '5B070800 - Мұнай газ ісі': 1.7671043291602908,\n",
       " '5B070900 - Металлургия': 1.7565895717882851,\n",
       " '5B071500 - Теңіз техникасы және технологиясы': 1.745971332778005,\n",
       " 'B058 - Информационная безопасность': 1.7400698858915762,\n",
       " '5B010300 - Педагогика және психология': -1.7239971070833109,\n",
       " '5B110100 - Мейірбике ісі': -1.7139916253523175,\n",
       " 'B183 - Агроинженерия': 1.707904467746614,\n",
       " 'B013 - Подготовка учителей биологии': -1.697070494537888,\n",
       " '5B011800 - Орыс тілі мен әдебиеті': -1.6686694280808938,\n",
       " '5B072900 - Құрылыс': 1.666292890677191,\n",
       " 'B017 - Подготовка учителей русского языка и литературы': -1.659452137345773,\n",
       " 'B018 - Подготовка учителей иностранного языка': -1.6520439112712983,\n",
       " 'B001 - Педагогика и психология': -1.6452614852354612,\n",
       " '5B041700 - Сән өнері': -1.6276461719229323,\n",
       " '5B080300 - Аңшылықтану және аң шаруашылығы': 1.611601896755741,\n",
       " 'B037 - Филология': -1.6000758590367363,\n",
       " '5B080600 - Аграрлық техника және технология': 1.5854214675044345,\n",
       " '5B070600 - Геология және пайдалы қазбалар кен орнын барлау': 1.5802225395213716,\n",
       " '5B072500 - Ағаш өңдеу және ағаштан бұйымдар жасау технологиясы (қолданылу саласы бойынша)': 1.5716696363599443,\n",
       " 'B069 - Производство материалов (стекло, бумага, пластик, дерево)': 1.5711221630581278,\n",
       " '5B010800 - Денешынықтыру және спорт': 1.5505290883785658,\n",
       " '5B060300 - Механика': 1.5499316938229084,\n",
       " '5B075200 - Инженерлік жүйелер және желілер': 1.5064344248016637,\n",
       " '5B011900 - Шетел тілі: екі шетел тілі (ағылшын тілі)': -1.5014906749504169,\n",
       " 'B074 - Градостроительство, строительные работы и гражданское строительство': 1.497958507428903,\n",
       " '5B071600 - Аспап жасау': 1.4888962046114491,\n",
       " 'B041 - Психология': -1.4881041835452082,\n",
       " '5B012300 - Әлеуметтік педагогика және өзін-өзі тану': -1.4833306213748498,\n",
       " '5B070400 Есептеутехникасыжәнебағдарламалыққамтамасызету': 1.4779685804896792,\n",
       " '5B020524 - Филология: орыс тілі': -1.4619279092525472,\n",
       " '5B050300 - Психология': -1.4603136605476923,\n",
       " '5B012200 - Орыс тілінде оқытпайтын мектептердегі орыс тілі мен әдебиеті': -1.4433517776187985,\n",
       " 'B070 - Текстиль: одежда, обувь и кожаные изделия': -1.4082921654807041,\n",
       " 'B016 - Подготовка учителей казахского языка и литературы': -1.4020826883972886,\n",
       " '5B074600 - Ғарыш техникасы және технологиялары': 1.385514304568253,\n",
       " '5B090100 - Көлікті пайдалану және жүк қозғалысы мен тасымалдауды ұйымдастыру': 1.373052394276706,\n",
       " '5B030400 - Кеден ісі': 1.3300304228012907,\n",
       " 'B067 - Воздушный транспорт и технологии': 1.3273481008521748,\n",
       " '5B021017 - Шетел филологиясы: жапон тілі': -1.3075240407449642,\n",
       " 'University Code_503.0': 1.306433542291081,\n",
       " '5B020100 - Философия': 1.3020968011486396,\n",
       " 'B081 - Землеустройство': 1.2746958883492656,\n",
       " 'B066 - Морской транспорт и технологии': 1.2727428814305886,\n",
       " 'B031 - Мода, дизайн': -1.2666516466216367,\n",
       " '5B011700 - Қазақ тілі мен әдебиеті': -1.266368234821961,\n",
       " '5B042100 - Дизайн': -1.2460880820355555,\n",
       " '5B073000 - Құрылыс материалдарын, бұйымдарын және құрастырылымдарын өндіру': 1.2442382656316902,\n",
       " 'B056 - Механика': 1.233421506406276,\n",
       " '\\n5B011200 - Химия': -1.2332846766640504,\n",
       " 'B012 - Подготовка учителей химии': -1.188845422183098,\n",
       " '5B071900 Радиотехника, электроника және телекоммуникациялар': 1.1838112973811254,\n",
       " 'B030 - Изобразительное искусство': -1.167608499077958,\n",
       " '5B021016 - Шетел филологиясы: қытай тілі': -1.1648232800760416,\n",
       " 'B057 - Информационные технологии': 1.1615062535053262,\n",
       " '\\n5B011300 - Биология': -1.1406761977557487,\n",
       " '5B070300 Ақпараттық жүйелер': 1.1265518846777103,\n",
       " '5B073800 - Материалдарды қысыммен өңдеу технологиясы': 1.1176492277349777,\n",
       " '5B071100 - Геодезия және картография': 1.112101115272941,\n",
       " '5B021500 - Исламтану': 1.1073293761149534,\n",
       " 'B034 - История и археология': 1.1039909002341846,\n",
       " '5B072300 - Техникалық физика': 1.098608252542964,\n",
       " '5В070300 - Информационные системы': 1.0980782710643906,\n",
       " '5B073100 - Қоршаған ортаны қорғау және өмір тіршілігінің қауіпсіздігі': 1.0969857347217138,\n",
       " 'B084 - Сестринское дело': -1.0906625279148106,\n",
       " 'B059 - Коммуникации и коммуникационные технологии': 1.0826506177268742,\n",
       " '5B012500 - Химия-Биология': -1.082208231441916,\n",
       " '5B020800 - Археология және этнология': 1.079877540894843,\n",
       " '5В070200 - Автоматизация и управление': 1.078159215521798,\n",
       " '5B060500 - Ядролық физика': 1.0757380429515,\n",
       " '5B051000 - Мемлекеттік және жергілікті басқару': 1.0600865750379453,\n",
       " 'B049 - Право': 1.0324114082866522,\n",
       " 'B042 - Журналистика и репортерское дело': -1.0273542276568213,\n",
       " '5B060200 - Информатика': 1.0260396825590892,\n",
       " '5B021200 - Түркітану': -1.0040721724675898,\n",
       " 'B036 - Переводческое дело': -1.0024824177328777}"
      ]
     },
     "execution_count": 26,
     "metadata": {},
     "output_type": "execute_result"
    }
   ],
   "source": [
    "important_feats"
   ]
  },
  {
   "cell_type": "code",
   "execution_count": 27,
   "id": "90a81f27-5ad6-4639-b1cb-f8bd3e1e1320",
   "metadata": {},
   "outputs": [
    {
     "data": {
      "text/plain": [
       "114"
      ]
     },
     "execution_count": 27,
     "metadata": {},
     "output_type": "execute_result"
    }
   ],
   "source": [
    "len(important_feats)"
   ]
  },
  {
   "cell_type": "code",
   "execution_count": 28,
   "id": "0891bb2b-258a-4ab3-a15a-e16e212bb3e1",
   "metadata": {
    "scrolled": true
   },
   "outputs": [
    {
     "name": "stdout",
     "output_type": "stream",
     "text": [
      "5B021022 - Шетел филологиясы: француз тілі is not stat significant\n",
      "5B040900 - Хореография is not stat significant\n",
      "24.05.03 - Ұшатын аппараттарды сынау is not stat significant\n",
      "B171 - Металлургия is not stat significant\n",
      "5B021021 - Шетел филологиясы: үнді тілі (хинди, урду) is not stat significant\n",
      "5B075000 - Метрология is not stat significant\n",
      "5В100200 Ақпараттық қауіпсіздік жүйелері is not stat significant\n",
      "38.03.02 - Менеджмент is not stat significant\n",
      "5В011200 - Химия is not stat significant\n",
      "B048 - Трудовые навыки is not stat significant\n",
      "5B021020 - Шетел филологиясы: ұйғыр тілі is not stat significant\n",
      "5B011924 - Шетел тілі: екі шетел тілі (француз тілі) is not stat significant\n",
      "5B021018 - Шетел филологиясы: парсы тілі is not stat significant\n",
      "5B072200 - Полиграфия is not stat significant\n",
      "B021 - Исполнительское искусство is not stat significant\n",
      "5B030300 - Құқық қорғау қызметі is not stat significant\n",
      "5B075300 - Балқуы қиын бейметалл және силикатты материалдардың химиялық технологиясы is not stat significant\n",
      "5B042200 - Баспа ісі is not stat significant\n",
      "5B041200 - Операторлық өнер is not stat significant\n",
      "5B020200 - Халықаралық қатынастар is not stat significant\n",
      "B140 - Международные отношения и дипломатия is not stat significant\n",
      "5B041400 - Графика is not stat significant\n",
      "5B021100 - Теология is not stat significant\n",
      "5B051200 - Статистика is not stat significant\n",
      "B025 - Традиционное музыкальное искусство is not stat significant\n",
      "B087 - Стоматология is not stat significant\n",
      "5B040200 - Аспаптық орындаушылық is not stat significant\n",
      "5B012700 - Математика-Информатика is not stat significant\n",
      "5B050200 - Саясаттану is not stat significant\n",
      "B061 - Материаловедение и технологии is not stat significant\n",
      "5B021013 - Шетел филологиясы: араб тілі is not stat significant\n",
      "5B080400 - Балық шаруашылығы және өнеркәсіптік балық аулау is not stat significant\n",
      "5B081000 - Жерді мелиорациялау, баптау және қорғау is not stat significant\n",
      "B038 - Социология is not stat significant\n",
      "09.03.04 - Информатика и вычислительная техника is not stat significant\n",
      "5B050600 - Экономика is not stat significant\n",
      "B040 - Политология is not stat significant\n",
      "5B040300 - Вокалдық өнер is not stat significant\n",
      "B046 - Финансы, экономика, банковское и страховое дело is not stat significant\n",
      "5B051900 - Еңбекті ұйымдастыру және нормалау is not stat significant\n",
      "B047 - Маркетинг и реклама is not stat significant\n",
      "5B073700 - Пайдалы қазбаларды байыту is not stat significant\n",
      "B089 - Общественное здравоохранение is not stat significant\n",
      "5B091200 - Мейрамхана ісі және мейманхана бизнесі is not stat significant\n",
      "5B020725 - Аударма ісі (қазақ тілінен орыс тіліне және орыс тілінен қазақ тіліне синхроншы-аудармашылар) is not stat significant\n",
      "5B051400 - Қоғамдық байланыс is not stat significant\n",
      "5B030200 - Халықаралық құқық is not stat significant\n",
      "\n",
      "5B011100 - Информатика is not stat significant\n",
      "5B061200 - Метеорология is not stat significant\n",
      "5B061100 - Физика және астрономия is not stat significant\n",
      "5B072000 - Бейорганикалық заттардың химиялық технологиясы is not stat significant\n",
      "B006 - Подготовка учителей музыки is not stat significant\n",
      "B011 - Подготовка учителей информатики is not stat significant\n",
      "5B050900 Қаржы is not stat significant\n",
      "5B050800 - Есеп және аудит is not stat significant\n",
      "5B012800 - Физика-Информатика is not stat significant\n",
      "5B052100 - Мемлекеттік аудит is not stat significant\n",
      "B078 - Животноводство is not stat significant\n",
      "5B090400 - Социально-культурный сервис is not stat significant\n",
      "5B130100 - Жалпы медицина is not stat significant\n",
      "5B042000 - Сәулет is not stat significant\n",
      "09.03.01 - Информатика және есептеу техникасы is not stat significant\n",
      "5B011923 - Шетел тілі: екі шетел тілі (неміс тілі) is not stat significant\n",
      "5B090800 - Бағалау is not stat significant\n",
      "B045 - Аудит и налогообложение is not stat significant\n",
      "5B020400 - Мәдениеттану is not stat significant\n",
      "B052 - Наука о земле is not stat significant\n",
      "B054 - Физика is not stat significant\n",
      "B055 - Математика и статистика is not stat significant\n",
      "B010 - Подготовка учителей физики is not stat significant\n",
      "5B073200 - Стандарттау және сертификаттау (салалар   бойынша) is not stat significant\n",
      "B079 - Лесное хозяйство is not stat significant\n",
      "5B051100 - Маркетинг is not stat significant\n",
      "5B130200 - Стоматология is not stat significant\n",
      "5B090500 - Әлеуметтік жұмыс is not stat significant\n",
      "5B090600 - Мәдени-тынығу жұмысы is not stat significant\n",
      "5B120200 - Ветеринарлық санитария is not stat significant\n",
      "B080 - Рыбное хозяйство is not stat significant\n"
     ]
    }
   ],
   "source": [
    "important_specs = {}\n",
    "stat_insign = []\n",
    "for feat, coef in coefs_dict.items():\n",
    "    if 'SpecCode_' not in feat:\n",
    "        continue\n",
    "    spec_code = feat[9:]\n",
    "    spec_name = spec_dict[spec_code]\n",
    "    feat_p = pvals_dict[feat]\n",
    "    if feat_p > 0.05:\n",
    "        print('{} is not stat significant'.format(spec_name))\n",
    "        stat_insign.append(spec_name)\n",
    "        continue\n",
    "    else:\n",
    "        important_specs[spec_name] = coef\n",
    "important_specs = dict(sorted(important_specs.items(), reverse=True, key=lambda x: abs(x[1])))"
   ]
  },
  {
   "cell_type": "code",
   "execution_count": 29,
   "id": "12a3d2bd-28be-41bd-bc7d-ca87152ca223",
   "metadata": {},
   "outputs": [
    {
     "data": {
      "text/plain": [
       "204"
      ]
     },
     "execution_count": 29,
     "metadata": {},
     "output_type": "execute_result"
    }
   ],
   "source": [
    "len(important_specs)"
   ]
  },
  {
   "cell_type": "markdown",
   "id": "ff9facd6-a4e2-486c-a47f-f2212d726781",
   "metadata": {},
   "source": [
    "#### find best cut"
   ]
  },
  {
   "cell_type": "code",
   "execution_count": 30,
   "id": "e7f26123-e31f-4ec9-8095-1003c80cef1a",
   "metadata": {},
   "outputs": [],
   "source": [
    "male_feats = dict(sorted(important_specs.items(), reverse=True, key=lambda x: x[1]))\n",
    "total_specs = []\n",
    "fscores = []\n",
    "for i in range(len(male_feats)):\n",
    "    total_specs.append(list(male_feats.keys())[i])\n",
    "    true_male = gendered_df[(gendered_df['Specialization'].isin(total_specs)) & (gendered_df['Gender']=='male')].shape[0]\n",
    "    false_male = gendered_df[(gendered_df['Specialization'].isin(total_specs)) & (gendered_df['Gender']=='female')].shape[0]\n",
    "    false_female = gendered_df[(~gendered_df['Specialization'].isin(total_specs)) & (gendered_df['Gender']=='male')].shape[0]\n",
    "    precision = true_male / (true_male+false_male)\n",
    "    recall = true_male / (true_male+false_female)\n",
    "    fscore = 2*precision*recall/(precision+recall)\n",
    "    fscores.append(fscore)"
   ]
  },
  {
   "cell_type": "code",
   "execution_count": 31,
   "id": "7f9ab5c5-150c-4549-b906-625ad7ef564f",
   "metadata": {},
   "outputs": [],
   "source": [
    "max_fscore = max(fscores)\n",
    "max_ind = fscores.index(max_fscore)\n",
    "best_cutoff = list(male_feats.values())[max_ind]"
   ]
  },
  {
   "cell_type": "code",
   "execution_count": 32,
   "id": "8b3fb19d-1336-479d-9ef4-c5c9daa31e4e",
   "metadata": {},
   "outputs": [
    {
     "data": {
      "text/plain": [
       "0.16886956709003986"
      ]
     },
     "execution_count": 32,
     "metadata": {},
     "output_type": "execute_result"
    }
   ],
   "source": [
    "best_cutoff"
   ]
  },
  {
   "cell_type": "code",
   "execution_count": 33,
   "id": "607f8ae3-4066-4784-9352-bd14d3b3dbe0",
   "metadata": {
    "scrolled": true
   },
   "outputs": [
    {
     "data": {
      "image/png": "[encoded data removed]",
      "text/plain": [
       "<Figure size 640x480 with 1 Axes>"
      ]
     },
     "metadata": {},
     "output_type": "display_data"
    }
   ],
   "source": [
    "plt.plot(male_feats.values(), fscores)\n",
    "plt.show()"
   ]
  },
  {
   "cell_type": "code",
   "execution_count": 34,
   "id": "aa0a5a71-6c01-4f7b-b927-87b9b67b2dc8",
   "metadata": {},
   "outputs": [],
   "source": [
    "female_feats = dict(sorted(important_specs.items(), reverse=False, key=lambda x: x[1]))\n",
    "total_specs = []\n",
    "fscores = []\n",
    "for i in range(len(female_feats)):\n",
    "    total_specs.append(list(female_feats.keys())[i])\n",
    "    true_female = gendered_df[(gendered_df['Specialization'].isin(total_specs)) & (gendered_df['Gender']=='female')].shape[0]\n",
    "    false_female = gendered_df[(gendered_df['Specialization'].isin(total_specs)) & (gendered_df['Gender']=='male')].shape[0]\n",
    "    false_male = gendered_df[(~gendered_df['Specialization'].isin(total_specs)) & (gendered_df['Gender']=='female')].shape[0]\n",
    "    precision = true_female / (true_female+false_female)\n",
    "    recall = true_female / (true_female+false_male)\n",
    "    fscore = 2*precision*recall/(precision+recall)\n",
    "    fscores.append(fscore)"
   ]
  },
  {
   "cell_type": "code",
   "execution_count": 35,
   "id": "1c1a92ac-68ed-4f4e-9478-0f7acf3a3c4e",
   "metadata": {},
   "outputs": [],
   "source": [
    "max_fscore = max(fscores)\n",
    "max_ind = fscores.index(max_fscore)\n",
    "best_cutoff = list(female_feats.values())[max_ind]"
   ]
  },
  {
   "cell_type": "code",
   "execution_count": 36,
   "id": "3a525812-1fee-4d96-9fdb-131b553fd510",
   "metadata": {},
   "outputs": [
    {
     "data": {
      "text/plain": [
       "1.3020968011486396"
      ]
     },
     "execution_count": 36,
     "metadata": {},
     "output_type": "execute_result"
    }
   ],
   "source": [
    "best_cutoff"
   ]
  },
  {
   "cell_type": "code",
   "execution_count": 37,
   "id": "21deb9b2-bbfd-468f-a831-f70add0360ce",
   "metadata": {
    "scrolled": true
   },
   "outputs": [
    {
     "data": {
      "image/png": "[encoded data removed]",
      "text/plain": [
       "<Figure size 640x480 with 1 Axes>"
      ]
     },
     "metadata": {},
     "output_type": "display_data"
    }
   ],
   "source": [
    "plt.plot(female_feats.values(), fscores)\n",
    "plt.show()"
   ]
  },
  {
   "cell_type": "markdown",
   "id": "c3ac4148-e5e7-4d77-b50f-a8997bd99d1e",
   "metadata": {},
   "source": [
    "#### male female feats distribution"
   ]
  },
  {
   "cell_type": "code",
   "execution_count": 38,
   "id": "fe2b6c16-6354-41f6-887c-d59790068215",
   "metadata": {},
   "outputs": [],
   "source": [
    "top_male_specs = [key for key,val in important_specs.items() if val>=0.16777846471067243]\n",
    "top_feamale_specs = [key for key,val in important_specs.items() if val<0]"
   ]
  },
  {
   "cell_type": "code",
   "execution_count": 39,
   "id": "f2b1ed78-f149-4e44-844c-ea5eb1d41c18",
   "metadata": {
    "scrolled": true
   },
   "outputs": [
    {
     "data": {
      "text/plain": [
       "['5B071800 - Электр энергетикасы',\n",
       " 'B162 - Теплоэнергетика',\n",
       " 'B167 - Летная эксплуатация летательных аппаратов и двигателей',\n",
       " 'B065 - Автотранспортные средства',\n",
       " '5B071200 - Машина жасау',\n",
       " '5B074300 - Ұшатын аппараттар мен қозғалтқыштарды ұшуда пайдалану',\n",
       " '5B071300 - Көлік, көліктік техника және технологиялар',\n",
       " 'B062 - Электротехника и энергетика',\n",
       " 'B064 - Механика и металлообработка',\n",
       " '5B074500 - Көлік құрылысы',\n",
       " '5B072400 - Технологиялық машиналар және жабдықтар (сала бойынша)',\n",
       " '5В071500 - Теңіз техникасы және технологиясы',\n",
       " '5B071700 - Жылу энергетикасы',\n",
       " '5B100200 - Ақпараттық қауіпсіздік жүйелері',\n",
       " 'B271 - Нефтегазовое дело',\n",
       " 'B063 - Электротехника и автоматизация',\n",
       " '5В060200 Информатика',\n",
       " '5B070700 - Тау-кен ісі',\n",
       " 'B004 - Подготовка учителей начальной военной подготовки',\n",
       " 'B071 - Горное дело и добыча полезных ископаемых',\n",
       " '5B070200 - Автоматтандыру және басқару',\n",
       " '5B081200 - Ауыл шаруашылығын энергиямен қамтамасыз ету',\n",
       " 'B005 - Подготовка учителей физической культуры',\n",
       " '5B010400 - Бастапқы әскери дайындық',\n",
       " '5B070800 - Мұнай газ ісі',\n",
       " '5B070900 - Металлургия',\n",
       " '5B071500 - Теңіз техникасы және технологиясы',\n",
       " 'B058 - Информационная безопасность',\n",
       " 'B183 - Агроинженерия',\n",
       " '5B072900 - Құрылыс',\n",
       " '5B080300 - Аңшылықтану және аң шаруашылығы',\n",
       " '5B080600 - Аграрлық техника және технология',\n",
       " '5B070600 - Геология және пайдалы қазбалар кен орнын барлау',\n",
       " '5B072500 - Ағаш өңдеу және ағаштан бұйымдар жасау технологиясы (қолданылу саласы бойынша)',\n",
       " 'B069 - Производство материалов (стекло, бумага, пластик, дерево)',\n",
       " '5B010800 - Денешынықтыру және спорт',\n",
       " '5B060300 - Механика',\n",
       " '5B075200 - Инженерлік жүйелер және желілер',\n",
       " 'B074 - Градостроительство, строительные работы и гражданское строительство',\n",
       " '5B071600 - Аспап жасау',\n",
       " '5B070400 Есептеутехникасыжәнебағдарламалыққамтамасызету',\n",
       " '5B074600 - Ғарыш техникасы және технологиялары',\n",
       " '5B090100 - Көлікті пайдалану және жүк қозғалысы мен тасымалдауды ұйымдастыру',\n",
       " '5B030400 - Кеден ісі',\n",
       " 'B067 - Воздушный транспорт и технологии',\n",
       " '5B020100 - Философия',\n",
       " 'B081 - Землеустройство',\n",
       " 'B066 - Морской транспорт и технологии',\n",
       " '5B073000 - Құрылыс материалдарын, бұйымдарын және құрастырылымдарын өндіру',\n",
       " 'B056 - Механика',\n",
       " '5B071900 Радиотехника, электроника және телекоммуникациялар',\n",
       " 'B057 - Информационные технологии',\n",
       " '5B070300 Ақпараттық жүйелер',\n",
       " '5B073800 - Материалдарды қысыммен өңдеу технологиясы',\n",
       " '5B071100 - Геодезия және картография',\n",
       " '5B021500 - Исламтану',\n",
       " 'B034 - История и археология',\n",
       " '5B072300 - Техникалық физика',\n",
       " '5В070300 - Информационные системы',\n",
       " '5B073100 - Қоршаған ортаны қорғау және өмір тіршілігінің қауіпсіздігі',\n",
       " 'B059 - Коммуникации и коммуникационные технологии',\n",
       " '5B020800 - Археология және этнология',\n",
       " '5В070200 - Автоматизация и управление',\n",
       " '5B060500 - Ядролық физика',\n",
       " '5B051000 - Мемлекеттік және жергілікті басқару',\n",
       " 'B049 - Право',\n",
       " '5B060200 - Информатика',\n",
       " '5B011500 - Құқық және экономика негіздері',\n",
       " '5B012900 - География-Тарих',\n",
       " '5B080700 - Орман ресурстары және орман шаруашылығы',\n",
       " '5B051500 - Мұрағаттану, құжаттар жүргізу және құжаттамалық қамтамасыз ету',\n",
       " '5B020600 - Дінтану',\n",
       " '5В011100 - Информатика',\n",
       " '5B020300 - Тарих',\n",
       " '5B071400 - Авиациялық техника және технологиялар',\n",
       " 'B094 - Санитарно-профилактические мероприятия',\n",
       " '5B080500 - Су ресурстары және суды пайдалану',\n",
       " '5B011400 - Тарих',\n",
       " '5B040600 - Режиссура',\n",
       " '5В070400 - Есептеу техникасы және бағдарламалық қамтамасыз ету',\n",
       " 'B014 - Подготовка учителей географии',\n",
       " '5B030100 - Құқықтану',\n",
       " '5B041900 - Мұражай ісі және ескерткіштерді қорғау',\n",
       " '5B071000 - Материал тану және жаңа материалдар технологиясы',\n",
       " '5B061000 - Гидрология',\n",
       " 'B032 - Философия и этика',\n",
       " '5B013000 - Тарих-Дінтану',\n",
       " 'B015 - Подготовка учителей по гуманитарным предметам',\n",
       " '5B070500 Математикалық және компьютерлік модельдеу',\n",
       " 'B060 - Химическая инженерия и процессы',\n",
       " '5B090900 - Логистика (сала бойынша)',\n",
       " 'B075 - Кадастр и землеустройство',\n",
       " '5B120100 - Ветеринарлық медицина',\n",
       " 'B033 - Религия и теология',\n",
       " '5B090300 - Жерге орналастыру',\n",
       " 'B095 - Транспортные услуги',\n",
       " '5B090700 - Кадастр',\n",
       " '5B050100 - Әлеуметтану',\n",
       " 'B082 - Водные ресурсы и водопользования',\n",
       " '5B010600 - Музыкалық білім',\n",
       " 'B044 - Менеджмент и управление',\n",
       " 'B083 - Ветеринария',\n",
       " 'B073 - Архитектура',\n",
       " '5B072100 - Органикалық заттардың химиялық технологиясы',\n",
       " '5B080100 - Агрономия',\n",
       " '5B060400 - Физика',\n",
       " '5B060100 - Математика']"
      ]
     },
     "execution_count": 39,
     "metadata": {},
     "output_type": "execute_result"
    }
   ],
   "source": [
    "top_male_specs"
   ]
  },
  {
   "cell_type": "code",
   "execution_count": 40,
   "id": "b2f2a5f0-84d8-4f87-a31b-522380646e6e",
   "metadata": {
    "scrolled": true
   },
   "outputs": [
    {
     "data": {
      "text/plain": [
       "['5B010100 - Мектепке дейінгі оқыту және тәрбиелеу',\n",
       " 'B002 - Дошкольное обучение и воспитание',\n",
       " '5B010200 - Бастауышта оқыту педагогикасы мен әдістемесі',\n",
       " 'B003 - Педагогика и методика начального обучения',\n",
       " 'B028 - Хореография',\n",
       " '5B021015 - Шетел филологиясы: корей тілі',\n",
       " 'B020 - Специальная педагогика',\n",
       " '5B021014 - Шетел филологиясы: түрік тілі',\n",
       " '5B021019 - Шетел филологиясы: өзбек тілі',\n",
       " '5B020726 - Аударма ісі (қазақ тілінен басқа тілдерге және керісінше синхроншы-аудармашылар)',\n",
       " '5B010500 - Дефектология',\n",
       " '5B021000 - Шетел филологиясы: ағылшын тілі',\n",
       " '5В050400 Журналистика',\n",
       " '5B012100 - Қазақ тілінде оқытпайтын мектептердегі қазақ тілі мен әдебиеті',\n",
       " '5B010300 - Педагогика және психология',\n",
       " '5B110100 - Мейірбике ісі',\n",
       " 'B013 - Подготовка учителей биологии',\n",
       " '5B011800 - Орыс тілі мен әдебиеті',\n",
       " 'B017 - Подготовка учителей русского языка и литературы',\n",
       " 'B018 - Подготовка учителей иностранного языка',\n",
       " 'B001 - Педагогика и психология',\n",
       " '5B041700 - Сән өнері',\n",
       " 'B037 - Филология',\n",
       " '5B011900 - Шетел тілі: екі шетел тілі (ағылшын тілі)',\n",
       " 'B041 - Психология',\n",
       " '5B012300 - Әлеуметтік педагогика және өзін-өзі тану',\n",
       " '5B020524 - Филология: орыс тілі',\n",
       " '5B050300 - Психология',\n",
       " '5B012200 - Орыс тілінде оқытпайтын мектептердегі орыс тілі мен әдебиеті',\n",
       " 'B070 - Текстиль: одежда, обувь и кожаные изделия',\n",
       " 'B016 - Подготовка учителей казахского языка и литературы',\n",
       " '5B021017 - Шетел филологиясы: жапон тілі',\n",
       " 'B031 - Мода, дизайн',\n",
       " '5B011700 - Қазақ тілі мен әдебиеті',\n",
       " '5B042100 - Дизайн',\n",
       " '\\n5B011200 - Химия',\n",
       " 'B012 - Подготовка учителей химии',\n",
       " 'B030 - Изобразительное искусство',\n",
       " '5B021016 - Шетел филологиясы: қытай тілі',\n",
       " '\\n5B011300 - Биология',\n",
       " 'B084 - Сестринское дело',\n",
       " '5B012500 - Химия-Биология',\n",
       " 'B042 - Журналистика и репортерское дело',\n",
       " '5B021200 - Түркітану',\n",
       " 'B036 - Переводческое дело',\n",
       " 'B068 - Производство продуктов питания',\n",
       " '5B020900 - Шығыстану',\n",
       " 'B019 - Подготовка специалистов по социальной педагогике и самопознанию',\n",
       " '5B020500 - Филология: қазақ тілі',\n",
       " '5B091000 - Кітапхана ісі',\n",
       " '5B080900 - Жеміс-көкөніс шаруашылығы',\n",
       " '5B072700 - Азық–түлік өнімдерінің технологиясы',\n",
       " 'B088 - Педиатрия',\n",
       " '5B072800 - Қайта өңдеу өндірістерінің технологиясы (сала бойынша)',\n",
       " '5B020700 - Аударма ісі',\n",
       " '5B060700 - Биология',\n",
       " '5B081100 - Өсімдік қорғау және карантин',\n",
       " '5B080800 - Топырақтану және агрохимия',\n",
       " 'B090 - Социальная работа',\n",
       " '5B110400 - Медициналық-профилактикалық іс',\n",
       " 'B053 - Химия',\n",
       " '\\n5В011300 -  Биология',\n",
       " 'B043 - Библиотечное дело, обработка информации и архивное дело',\n",
       " 'B035 - Тюркология и востоковедение',\n",
       " '5B051300 - Әлемдік экономика',\n",
       " 'B091 - Туризм',\n",
       " '5B050400 - Журналистика',\n",
       " '5B130300 - Педиатрия',\n",
       " 'B039 - Культурология',\n",
       " 'B093 - Ресторанное дело и гостиничный бизнес',\n",
       " 'B029 - Аудиовизуальные средства и медиа производство',\n",
       " 'B085 - Фармация',\n",
       " '5B010700 - Бейнелеу өнері және сызу',\n",
       " '5B110200 - Қоғамдық денсаулық сақтау',\n",
       " 'B007 - Подготовка учителей художественного труда и черчения',\n",
       " '5B050500 - Аймақтану',\n",
       " '5B070100 - Биотехнология',\n",
       " '5B110300 - Фармация',\n",
       " 'B050 - Биологические и смежные науки',\n",
       " '5B012600 - Математика-Физика',\n",
       " '5B074800 - Фармацевтикалық өндіріс технологиясы',\n",
       " '5B011600 - География',\n",
       " 'B072 - Технология фармацевтического производства',\n",
       " 'B077 - Растениеводство',\n",
       " 'B092 - Досуг',\n",
       " '5B050700 - Менеджмент',\n",
       " '5B060600 - Химия',\n",
       " '5B090200 - Туризм',\n",
       " '5B080200 - Мал шаруашылығы өнімдерін өндіру технологиясы',\n",
       " 'B076 - Стандартизация, сертификация и метрология (по отраслям)',\n",
       " 'B051 - Окружающая среда',\n",
       " '5B010900 - Математика',\n",
       " '5B011000 - Физика',\n",
       " '5B012000 - Кәсіптік оқыту',\n",
       " '5B060800 - Экология',\n",
       " 'B009 - Подготовка учителей математики',\n",
       " 'B086 - Общая медицина']"
      ]
     },
     "execution_count": 40,
     "metadata": {},
     "output_type": "execute_result"
    }
   ],
   "source": [
    "top_feamale_specs"
   ]
  },
  {
   "cell_type": "code",
   "execution_count": 41,
   "id": "bf1c7e1f-fd0c-4a0e-b72a-8d418b315e3a",
   "metadata": {},
   "outputs": [
    {
     "data": {
      "text/plain": [
       "(294, 97, 107)"
      ]
     },
     "execution_count": 41,
     "metadata": {},
     "output_type": "execute_result"
    }
   ],
   "source": [
    "len(spec_dict), len(top_feamale_specs), len(top_male_specs)"
   ]
  },
  {
   "cell_type": "code",
   "execution_count": 42,
   "id": "06063a03-d982-4516-89e1-22df3afe0405",
   "metadata": {},
   "outputs": [
    {
     "data": {
      "text/plain": [
       "Gender\n",
       "male      51067\n",
       "female    26238\n",
       "Name: count, dtype: int64"
      ]
     },
     "execution_count": 42,
     "metadata": {},
     "output_type": "execute_result"
    }
   ],
   "source": [
    "gendered_df[gendered_df['Specialization'].isin(top_male_specs)]['Gender'].value_counts()"
   ]
  },
  {
   "cell_type": "code",
   "execution_count": 43,
   "id": "49821455-7dec-4252-99cc-33d44db5f9ae",
   "metadata": {},
   "outputs": [
    {
     "data": {
      "text/plain": [
       "Gender\n",
       "female    47437\n",
       "male       9426\n",
       "Name: count, dtype: int64"
      ]
     },
     "execution_count": 43,
     "metadata": {},
     "output_type": "execute_result"
    }
   ],
   "source": [
    "gendered_df[gendered_df['Specialization'].isin(top_feamale_specs)]['Gender'].value_counts()"
   ]
  },
  {
   "cell_type": "code",
   "execution_count": 44,
   "id": "e1dd4d28-3331-4ed3-8d78-d2920132d602",
   "metadata": {},
   "outputs": [
    {
     "data": {
      "text/plain": [
       "Gender\n",
       "female    31594\n",
       "male      20449\n",
       "Name: count, dtype: int64"
      ]
     },
     "execution_count": 44,
     "metadata": {},
     "output_type": "execute_result"
    }
   ],
   "source": [
    "gendered_df[(~gendered_df['Specialization'].isin(top_feamale_specs))&(~gendered_df['Specialization'].isin(top_male_specs))]['Gender'].value_counts()"
   ]
  },
  {
   "cell_type": "code",
   "execution_count": 45,
   "id": "133e7c7b-8d34-4ff3-ac79-f363b0b7aa16",
   "metadata": {},
   "outputs": [
    {
     "data": {
      "text/plain": [
       "Gender\n",
       "female    105269\n",
       "male       80942\n",
       "Name: count, dtype: int64"
      ]
     },
     "execution_count": 45,
     "metadata": {},
     "output_type": "execute_result"
    }
   ],
   "source": [
    "gendered_df['Gender'].value_counts()"
   ]
  },
  {
   "cell_type": "markdown",
   "id": "3503806d-1dfc-4f97-880a-7d9097e978a8",
   "metadata": {},
   "source": [
    "#### perdict at each year"
   ]
  },
  {
   "cell_type": "code",
   "execution_count": 46,
   "id": "2399cd66-fc81-4b80-ba3d-7b0d44d5b832",
   "metadata": {},
   "outputs": [],
   "source": [
    "spec_df = gendered_df.copy()"
   ]
  },
  {
   "cell_type": "code",
   "execution_count": 47,
   "id": "7ead7feb-2491-4232-94c6-03bdfa5cb81b",
   "metadata": {},
   "outputs": [],
   "source": [
    "spec_df['male_specialization']=0\n",
    "spec_df.loc[spec_df['Specialization'].isin(top_male_specs), 'male_specialization']=1"
   ]
  },
  {
   "cell_type": "code",
   "execution_count": 48,
   "id": "fd9f963d-c812-4bec-a08c-4da1c987e08e",
   "metadata": {},
   "outputs": [],
   "source": [
    "spec_df['female_specialization']=0\n",
    "spec_df.loc[spec_df['Specialization'].isin(top_feamale_specs), 'female_specialization']=1"
   ]
  },
  {
   "cell_type": "code",
   "execution_count": 49,
   "id": "e7752604-8329-4de6-a682-0a3fff9e130f",
   "metadata": {},
   "outputs": [
    {
     "data": {
      "text/plain": [
       "Competition\n",
       "general          156158\n",
       "village quota     30053\n",
       "Name: count, dtype: int64"
      ]
     },
     "execution_count": 49,
     "metadata": {},
     "output_type": "execute_result"
    }
   ],
   "source": [
    "spec_df['Competition'].value_counts()"
   ]
  },
  {
   "cell_type": "code",
   "execution_count": 50,
   "id": "1df8abce-6d1c-4629-ac71-f5260dbdc934",
   "metadata": {},
   "outputs": [],
   "source": [
    "spec_df['general_competition']=0\n",
    "spec_df.loc[spec_df['Competition']=='general', 'general_competition']=1"
   ]
  },
  {
   "cell_type": "code",
   "execution_count": 51,
   "id": "61dccc79-25e4-465c-a840-fa0983373f37",
   "metadata": {},
   "outputs": [],
   "source": [
    "spec_df['is_male'] = 0\n",
    "spec_df.loc[spec_df['Gender']=='male', 'is_male']=1"
   ]
  },
  {
   "cell_type": "code",
   "execution_count": 52,
   "id": "6d4b6981-64d4-4ed7-90f4-da2aab7b7785",
   "metadata": {
    "scrolled": true
   },
   "outputs": [
    {
     "data": {
      "text/html": [
       "<div>\n",
       "<style scoped>\n",
       "    .dataframe tbody tr th:only-of-type {\n",
       "        vertical-align: middle;\n",
       "    }\n",
       "\n",
       "    .dataframe tbody tr th {\n",
       "        vertical-align: top;\n",
       "    }\n",
       "\n",
       "    .dataframe thead th {\n",
       "        text-align: right;\n",
       "    }\n",
       "</style>\n",
       "<table border=\"1\" class=\"dataframe\">\n",
       "  <thead>\n",
       "    <tr style=\"text-align: right;\">\n",
       "      <th></th>\n",
       "      <th>No</th>\n",
       "      <th>Code</th>\n",
       "      <th>Name</th>\n",
       "      <th>Score</th>\n",
       "      <th>University Code</th>\n",
       "      <th>Competition</th>\n",
       "      <th>Specialization</th>\n",
       "      <th>before2017</th>\n",
       "      <th>year</th>\n",
       "      <th>Score_norm</th>\n",
       "      <th>SpecCode</th>\n",
       "      <th>Gender</th>\n",
       "      <th>male_specialization</th>\n",
       "      <th>female_specialization</th>\n",
       "      <th>general_competition</th>\n",
       "      <th>is_male</th>\n",
       "    </tr>\n",
       "  </thead>\n",
       "  <tbody>\n",
       "    <tr>\n",
       "      <th>0</th>\n",
       "      <td>1</td>\n",
       "      <td>045009111</td>\n",
       "      <td>Құлыбек Арайлым Сәрсенбекқызы</td>\n",
       "      <td>94.0</td>\n",
       "      <td>45.0</td>\n",
       "      <td>general</td>\n",
       "      <td>5B010100 - Дошкольное обучение и воспитание</td>\n",
       "      <td>1</td>\n",
       "      <td>2015</td>\n",
       "      <td>0.940000</td>\n",
       "      <td>5B010100</td>\n",
       "      <td>female</td>\n",
       "      <td>0</td>\n",
       "      <td>0</td>\n",
       "      <td>1</td>\n",
       "      <td>0</td>\n",
       "    </tr>\n",
       "    <tr>\n",
       "      <th>1</th>\n",
       "      <td>2</td>\n",
       "      <td>029005329</td>\n",
       "      <td>Турашбек Динара Тимурқызы</td>\n",
       "      <td>94.0</td>\n",
       "      <td>34.0</td>\n",
       "      <td>general</td>\n",
       "      <td>5B010100 - Дошкольное обучение и воспитание</td>\n",
       "      <td>1</td>\n",
       "      <td>2015</td>\n",
       "      <td>0.940000</td>\n",
       "      <td>5B010100</td>\n",
       "      <td>female</td>\n",
       "      <td>0</td>\n",
       "      <td>0</td>\n",
       "      <td>1</td>\n",
       "      <td>0</td>\n",
       "    </tr>\n",
       "    <tr>\n",
       "      <th>2</th>\n",
       "      <td>3</td>\n",
       "      <td>011002093</td>\n",
       "      <td>Базарбаева Анар Әлібекқызы</td>\n",
       "      <td>91.0</td>\n",
       "      <td>11.0</td>\n",
       "      <td>general</td>\n",
       "      <td>5B010100 - Дошкольное обучение и воспитание</td>\n",
       "      <td>1</td>\n",
       "      <td>2015</td>\n",
       "      <td>0.910000</td>\n",
       "      <td>5B010100</td>\n",
       "      <td>female</td>\n",
       "      <td>0</td>\n",
       "      <td>0</td>\n",
       "      <td>1</td>\n",
       "      <td>0</td>\n",
       "    </tr>\n",
       "    <tr>\n",
       "      <th>3</th>\n",
       "      <td>4</td>\n",
       "      <td>747003006</td>\n",
       "      <td>Мағзумова Аида Жанабайқызы</td>\n",
       "      <td>90.0</td>\n",
       "      <td>11.0</td>\n",
       "      <td>general</td>\n",
       "      <td>5B010100 - Дошкольное обучение и воспитание</td>\n",
       "      <td>1</td>\n",
       "      <td>2015</td>\n",
       "      <td>0.900000</td>\n",
       "      <td>5B010100</td>\n",
       "      <td>female</td>\n",
       "      <td>0</td>\n",
       "      <td>0</td>\n",
       "      <td>1</td>\n",
       "      <td>0</td>\n",
       "    </tr>\n",
       "    <tr>\n",
       "      <th>4</th>\n",
       "      <td>5</td>\n",
       "      <td>010016051</td>\n",
       "      <td>Мухитова Слу Жанболатовна</td>\n",
       "      <td>90.0</td>\n",
       "      <td>10.0</td>\n",
       "      <td>general</td>\n",
       "      <td>5B010100 - Дошкольное обучение и воспитание</td>\n",
       "      <td>1</td>\n",
       "      <td>2015</td>\n",
       "      <td>0.900000</td>\n",
       "      <td>5B010100</td>\n",
       "      <td>female</td>\n",
       "      <td>0</td>\n",
       "      <td>0</td>\n",
       "      <td>1</td>\n",
       "      <td>0</td>\n",
       "    </tr>\n",
       "    <tr>\n",
       "      <th>...</th>\n",
       "      <td>...</td>\n",
       "      <td>...</td>\n",
       "      <td>...</td>\n",
       "      <td>...</td>\n",
       "      <td>...</td>\n",
       "      <td>...</td>\n",
       "      <td>...</td>\n",
       "      <td>...</td>\n",
       "      <td>...</td>\n",
       "      <td>...</td>\n",
       "      <td>...</td>\n",
       "      <td>...</td>\n",
       "      <td>...</td>\n",
       "      <td>...</td>\n",
       "      <td>...</td>\n",
       "      <td>...</td>\n",
       "    </tr>\n",
       "    <tr>\n",
       "      <th>193760</th>\n",
       "      <td>11</td>\n",
       "      <td>16300047</td>\n",
       "      <td>КУСАЙНОВА ДИЛЬНАЗ ТЕМУРОВНА</td>\n",
       "      <td>76.0</td>\n",
       "      <td>16.0</td>\n",
       "      <td>general</td>\n",
       "      <td>B013 - Подготовка учителей биологии</td>\n",
       "      <td>0</td>\n",
       "      <td>2020</td>\n",
       "      <td>0.542857</td>\n",
       "      <td>B013</td>\n",
       "      <td>female</td>\n",
       "      <td>0</td>\n",
       "      <td>1</td>\n",
       "      <td>1</td>\n",
       "      <td>0</td>\n",
       "    </tr>\n",
       "    <tr>\n",
       "      <th>193761</th>\n",
       "      <td>12</td>\n",
       "      <td>25300035</td>\n",
       "      <td>ЕРТАЕВА ДИЛЬНАЗ БЕРІКҚЫЗЫ</td>\n",
       "      <td>76.0</td>\n",
       "      <td>15.0</td>\n",
       "      <td>general</td>\n",
       "      <td>B013 - Подготовка учителей биологии</td>\n",
       "      <td>0</td>\n",
       "      <td>2020</td>\n",
       "      <td>0.542857</td>\n",
       "      <td>B013</td>\n",
       "      <td>female</td>\n",
       "      <td>0</td>\n",
       "      <td>1</td>\n",
       "      <td>1</td>\n",
       "      <td>0</td>\n",
       "    </tr>\n",
       "    <tr>\n",
       "      <th>193762</th>\n",
       "      <td>13</td>\n",
       "      <td>196300005</td>\n",
       "      <td>ИСМАЙЛ ГҮЛДАНА САҒЫНТАЙҚЫЗЫ</td>\n",
       "      <td>74.0</td>\n",
       "      <td>196.0</td>\n",
       "      <td>general</td>\n",
       "      <td>B013 - Подготовка учителей биологии</td>\n",
       "      <td>0</td>\n",
       "      <td>2020</td>\n",
       "      <td>0.528571</td>\n",
       "      <td>B013</td>\n",
       "      <td>female</td>\n",
       "      <td>0</td>\n",
       "      <td>1</td>\n",
       "      <td>1</td>\n",
       "      <td>0</td>\n",
       "    </tr>\n",
       "    <tr>\n",
       "      <th>193763</th>\n",
       "      <td>14</td>\n",
       "      <td>25300043</td>\n",
       "      <td>АНАРБЕКҚЫЗЫ БОТАГӨЗ</td>\n",
       "      <td>74.0</td>\n",
       "      <td>25.0</td>\n",
       "      <td>general</td>\n",
       "      <td>B013 - Подготовка учителей биологии</td>\n",
       "      <td>0</td>\n",
       "      <td>2020</td>\n",
       "      <td>0.528571</td>\n",
       "      <td>B013</td>\n",
       "      <td>female</td>\n",
       "      <td>0</td>\n",
       "      <td>1</td>\n",
       "      <td>1</td>\n",
       "      <td>0</td>\n",
       "    </tr>\n",
       "    <tr>\n",
       "      <th>193764</th>\n",
       "      <td>15</td>\n",
       "      <td>16300035</td>\n",
       "      <td>МУБАРАКОВА АЙЖАН САҒЫНДЫҚҚЫЗЫ</td>\n",
       "      <td>72.0</td>\n",
       "      <td>16.0</td>\n",
       "      <td>general</td>\n",
       "      <td>B013 - Подготовка учителей биологии</td>\n",
       "      <td>0</td>\n",
       "      <td>2020</td>\n",
       "      <td>0.514286</td>\n",
       "      <td>B013</td>\n",
       "      <td>female</td>\n",
       "      <td>0</td>\n",
       "      <td>1</td>\n",
       "      <td>1</td>\n",
       "      <td>0</td>\n",
       "    </tr>\n",
       "  </tbody>\n",
       "</table>\n",
       "<p>186211 rows × 16 columns</p>\n",
       "</div>"
      ],
      "text/plain": [
       "        No       Code                           Name  Score  University Code  \\\n",
       "0        1  045009111  Құлыбек Арайлым Сәрсенбекқызы   94.0             45.0   \n",
       "1        2  029005329      Турашбек Динара Тимурқызы   94.0             34.0   \n",
       "2        3  011002093     Базарбаева Анар Әлібекқызы   91.0             11.0   \n",
       "3        4  747003006     Мағзумова Аида Жанабайқызы   90.0             11.0   \n",
       "4        5  010016051      Мухитова Слу Жанболатовна   90.0             10.0   \n",
       "...     ..        ...                            ...    ...              ...   \n",
       "193760  11   16300047    КУСАЙНОВА ДИЛЬНАЗ ТЕМУРОВНА   76.0             16.0   \n",
       "193761  12   25300035      ЕРТАЕВА ДИЛЬНАЗ БЕРІКҚЫЗЫ   76.0             15.0   \n",
       "193762  13  196300005    ИСМАЙЛ ГҮЛДАНА САҒЫНТАЙҚЫЗЫ   74.0            196.0   \n",
       "193763  14   25300043            АНАРБЕКҚЫЗЫ БОТАГӨЗ   74.0             25.0   \n",
       "193764  15   16300035  МУБАРАКОВА АЙЖАН САҒЫНДЫҚҚЫЗЫ   72.0             16.0   \n",
       "\n",
       "       Competition                               Specialization  before2017  \\\n",
       "0          general  5B010100 - Дошкольное обучение и воспитание           1   \n",
       "1          general  5B010100 - Дошкольное обучение и воспитание           1   \n",
       "2          general  5B010100 - Дошкольное обучение и воспитание           1   \n",
       "3          general  5B010100 - Дошкольное обучение и воспитание           1   \n",
       "4          general  5B010100 - Дошкольное обучение и воспитание           1   \n",
       "...            ...                                          ...         ...   \n",
       "193760     general          B013 - Подготовка учителей биологии           0   \n",
       "193761     general          B013 - Подготовка учителей биологии           0   \n",
       "193762     general          B013 - Подготовка учителей биологии           0   \n",
       "193763     general          B013 - Подготовка учителей биологии           0   \n",
       "193764     general          B013 - Подготовка учителей биологии           0   \n",
       "\n",
       "        year  Score_norm  SpecCode  Gender  male_specialization  \\\n",
       "0       2015    0.940000  5B010100  female                    0   \n",
       "1       2015    0.940000  5B010100  female                    0   \n",
       "2       2015    0.910000  5B010100  female                    0   \n",
       "3       2015    0.900000  5B010100  female                    0   \n",
       "4       2015    0.900000  5B010100  female                    0   \n",
       "...      ...         ...       ...     ...                  ...   \n",
       "193760  2020    0.542857      B013  female                    0   \n",
       "193761  2020    0.542857      B013  female                    0   \n",
       "193762  2020    0.528571      B013  female                    0   \n",
       "193763  2020    0.528571      B013  female                    0   \n",
       "193764  2020    0.514286      B013  female                    0   \n",
       "\n",
       "        female_specialization  general_competition  is_male  \n",
       "0                           0                    1        0  \n",
       "1                           0                    1        0  \n",
       "2                           0                    1        0  \n",
       "3                           0                    1        0  \n",
       "4                           0                    1        0  \n",
       "...                       ...                  ...      ...  \n",
       "193760                      1                    1        0  \n",
       "193761                      1                    1        0  \n",
       "193762                      1                    1        0  \n",
       "193763                      1                    1        0  \n",
       "193764                      1                    1        0  \n",
       "\n",
       "[186211 rows x 16 columns]"
      ]
     },
     "execution_count": 52,
     "metadata": {},
     "output_type": "execute_result"
    }
   ],
   "source": [
    "spec_df"
   ]
  },
  {
   "cell_type": "code",
   "execution_count": 53,
   "id": "13908a94-a717-4a56-9242-7e62fefd0faf",
   "metadata": {},
   "outputs": [],
   "source": [
    "def get_analysis(year, show_summary=False, show_accuracy=True):\n",
    "    cur_df = spec_df[spec_df['year']==year].reset_index(drop=True)\n",
    "    x = cur_df[['Score_norm', 'male_specialization', 'female_specialization', 'general_competition']].copy()\n",
    "    y = cur_df['is_male']\n",
    "    x_tr, x_t, y_tr, y_t = tts(x, y, test_size=0.2, random_state=105)\n",
    "    neat_model = sm.Logit(y_tr, x_tr).fit(maxiter=1000, method='nm')\n",
    "    if show_summary:\n",
    "        y_pred_proba = neat_model.predict(x_t)\n",
    "        y_pred = (y_pred_proba>=0.5).astype(int)\n",
    "        print('test sample')\n",
    "        print(classification_report(y_t, y_pred))\n",
    "        y_pred_proba = neat_model.predict(x_tr)\n",
    "        y_pred = (y_pred_proba>=0.5).astype(int)\n",
    "        print('train sample')\n",
    "        print(classification_report(y_tr, y_pred))\n",
    "    if show_accuracy:\n",
    "        y_pred_proba = neat_model.predict(x_t)\n",
    "        y_pred = (y_pred_proba>=0.5).astype(int)\n",
    "        print('test accuracy:', accuracy_score(y_t, y_pred))\n",
    "    return neat_model"
   ]
  },
  {
   "cell_type": "code",
   "execution_count": 54,
   "id": "b707f8d0-6a3e-4547-8aa7-e8ea201a4a38",
   "metadata": {},
   "outputs": [
    {
     "name": "stdout",
     "output_type": "stream",
     "text": [
      "Optimization terminated successfully.\n",
      "         Current function value: 0.666605\n",
      "         Iterations: 357\n",
      "         Function evaluations: 591\n",
      "test accuracy: 0.5855513307984791\n"
     ]
    },
    {
     "data": {
      "text/html": [
       "<table class=\"simpletable\">\n",
       "<caption>Logit Regression Results</caption>\n",
       "<tr>\n",
       "  <th>Dep. Variable:</th>        <td>is_male</td>     <th>  No. Observations:  </th>  <td> 15777</td>  \n",
       "</tr>\n",
       "<tr>\n",
       "  <th>Model:</th>                 <td>Logit</td>      <th>  Df Residuals:      </th>  <td> 15773</td>  \n",
       "</tr>\n",
       "<tr>\n",
       "  <th>Method:</th>                 <td>MLE</td>       <th>  Df Model:          </th>  <td>     3</td>  \n",
       "</tr>\n",
       "<tr>\n",
       "  <th>Date:</th>            <td>Fri, 31 May 2024</td> <th>  Pseudo R-squ.:     </th>  <td>0.01942</td> \n",
       "</tr>\n",
       "<tr>\n",
       "  <th>Time:</th>                <td>04:58:43</td>     <th>  Log-Likelihood:    </th> <td> -10517.</td> \n",
       "</tr>\n",
       "<tr>\n",
       "  <th>converged:</th>             <td>True</td>       <th>  LL-Null:           </th> <td> -10725.</td> \n",
       "</tr>\n",
       "<tr>\n",
       "  <th>Covariance Type:</th>     <td>nonrobust</td>    <th>  LLR p-value:       </th> <td>5.425e-90</td>\n",
       "</tr>\n",
       "</table>\n",
       "<table class=\"simpletable\">\n",
       "<tr>\n",
       "            <td></td>               <th>coef</th>     <th>std err</th>      <th>z</th>      <th>P>|z|</th>  <th>[0.025</th>    <th>0.975]</th>  \n",
       "</tr>\n",
       "<tr>\n",
       "  <th>Score_norm</th>            <td>   -0.5277</td> <td>    0.041</td> <td>  -12.966</td> <td> 0.000</td> <td>   -0.607</td> <td>   -0.448</td>\n",
       "</tr>\n",
       "<tr>\n",
       "  <th>male_specialization</th>   <td>    0.1890</td> <td>    0.062</td> <td>    3.063</td> <td> 0.002</td> <td>    0.068</td> <td>    0.310</td>\n",
       "</tr>\n",
       "<tr>\n",
       "  <th>female_specialization</th> <td>   -1.2079</td> <td>    0.074</td> <td>  -16.326</td> <td> 0.000</td> <td>   -1.353</td> <td>   -1.063</td>\n",
       "</tr>\n",
       "<tr>\n",
       "  <th>general_competition</th>   <td>    0.2487</td> <td>    0.040</td> <td>    6.146</td> <td> 0.000</td> <td>    0.169</td> <td>    0.328</td>\n",
       "</tr>\n",
       "</table>"
      ],
      "text/latex": [
       "\\begin{center}\n",
       "\\begin{tabular}{lclc}\n",
       "\\toprule\n",
       "\\textbf{Dep. Variable:}         &     is\\_male     & \\textbf{  No. Observations:  } &    15777    \\\\\n",
       "\\textbf{Model:}                 &      Logit       & \\textbf{  Df Residuals:      } &    15773    \\\\\n",
       "\\textbf{Method:}                &       MLE        & \\textbf{  Df Model:          } &        3    \\\\\n",
       "\\textbf{Date:}                  & Fri, 31 May 2024 & \\textbf{  Pseudo R-squ.:     } &  0.01942    \\\\\n",
       "\\textbf{Time:}                  &     04:58:43     & \\textbf{  Log-Likelihood:    } &   -10517.   \\\\\n",
       "\\textbf{converged:}             &       True       & \\textbf{  LL-Null:           } &   -10725.   \\\\\n",
       "\\textbf{Covariance Type:}       &    nonrobust     & \\textbf{  LLR p-value:       } & 5.425e-90   \\\\\n",
       "\\bottomrule\n",
       "\\end{tabular}\n",
       "\\begin{tabular}{lcccccc}\n",
       "                                & \\textbf{coef} & \\textbf{std err} & \\textbf{z} & \\textbf{P$> |$z$|$} & \\textbf{[0.025} & \\textbf{0.975]}  \\\\\n",
       "\\midrule\n",
       "\\textbf{Score\\_norm}            &      -0.5277  &        0.041     &   -12.966  &         0.000        &       -0.607    &       -0.448     \\\\\n",
       "\\textbf{male\\_specialization}   &       0.1890  &        0.062     &     3.063  &         0.002        &        0.068    &        0.310     \\\\\n",
       "\\textbf{female\\_specialization} &      -1.2079  &        0.074     &   -16.326  &         0.000        &       -1.353    &       -1.063     \\\\\n",
       "\\textbf{general\\_competition}   &       0.2487  &        0.040     &     6.146  &         0.000        &        0.169    &        0.328     \\\\\n",
       "\\bottomrule\n",
       "\\end{tabular}\n",
       "%\\caption{Logit Regression Results}\n",
       "\\end{center}"
      ],
      "text/plain": [
       "<class 'statsmodels.iolib.summary.Summary'>\n",
       "\"\"\"\n",
       "                           Logit Regression Results                           \n",
       "==============================================================================\n",
       "Dep. Variable:                is_male   No. Observations:                15777\n",
       "Model:                          Logit   Df Residuals:                    15773\n",
       "Method:                           MLE   Df Model:                            3\n",
       "Date:                Fri, 31 May 2024   Pseudo R-squ.:                 0.01942\n",
       "Time:                        04:58:43   Log-Likelihood:                -10517.\n",
       "converged:                       True   LL-Null:                       -10725.\n",
       "Covariance Type:            nonrobust   LLR p-value:                 5.425e-90\n",
       "=========================================================================================\n",
       "                            coef    std err          z      P>|z|      [0.025      0.975]\n",
       "-----------------------------------------------------------------------------------------\n",
       "Score_norm               -0.5277      0.041    -12.966      0.000      -0.607      -0.448\n",
       "male_specialization       0.1890      0.062      3.063      0.002       0.068       0.310\n",
       "female_specialization    -1.2079      0.074    -16.326      0.000      -1.353      -1.063\n",
       "general_competition       0.2487      0.040      6.146      0.000       0.169       0.328\n",
       "=========================================================================================\n",
       "\"\"\""
      ]
     },
     "execution_count": 54,
     "metadata": {},
     "output_type": "execute_result"
    }
   ],
   "source": [
    "model2015 = get_analysis(2015)\n",
    "model2015.summary()"
   ]
  },
  {
   "cell_type": "code",
   "execution_count": 55,
   "id": "914329f0-726c-4afc-a14d-37d750ab8b0e",
   "metadata": {},
   "outputs": [
    {
     "name": "stdout",
     "output_type": "stream",
     "text": [
      "Optimization terminated successfully.\n",
      "         Current function value: 0.591432\n",
      "         Iterations: 241\n",
      "         Function evaluations: 409\n",
      "test accuracy: 0.6900664841611264\n"
     ]
    },
    {
     "data": {
      "text/html": [
       "<table class=\"simpletable\">\n",
       "<caption>Logit Regression Results</caption>\n",
       "<tr>\n",
       "  <th>Dep. Variable:</th>        <td>is_male</td>     <th>  No. Observations:  </th>  <td> 20454</td> \n",
       "</tr>\n",
       "<tr>\n",
       "  <th>Model:</th>                 <td>Logit</td>      <th>  Df Residuals:      </th>  <td> 20450</td> \n",
       "</tr>\n",
       "<tr>\n",
       "  <th>Method:</th>                 <td>MLE</td>       <th>  Df Model:          </th>  <td>     3</td> \n",
       "</tr>\n",
       "<tr>\n",
       "  <th>Date:</th>            <td>Fri, 31 May 2024</td> <th>  Pseudo R-squ.:     </th>  <td>0.1330</td> \n",
       "</tr>\n",
       "<tr>\n",
       "  <th>Time:</th>                <td>04:58:44</td>     <th>  Log-Likelihood:    </th> <td> -12097.</td>\n",
       "</tr>\n",
       "<tr>\n",
       "  <th>converged:</th>             <td>True</td>       <th>  LL-Null:           </th> <td> -13953.</td>\n",
       "</tr>\n",
       "<tr>\n",
       "  <th>Covariance Type:</th>     <td>nonrobust</td>    <th>  LLR p-value:       </th>  <td> 0.000</td> \n",
       "</tr>\n",
       "</table>\n",
       "<table class=\"simpletable\">\n",
       "<tr>\n",
       "            <td></td>               <th>coef</th>     <th>std err</th>      <th>z</th>      <th>P>|z|</th>  <th>[0.025</th>    <th>0.975]</th>  \n",
       "</tr>\n",
       "<tr>\n",
       "  <th>Score_norm</th>            <td>   -0.6746</td> <td>    0.049</td> <td>  -13.686</td> <td> 0.000</td> <td>   -0.771</td> <td>   -0.578</td>\n",
       "</tr>\n",
       "<tr>\n",
       "  <th>male_specialization</th>   <td>    1.0145</td> <td>    0.033</td> <td>   30.519</td> <td> 0.000</td> <td>    0.949</td> <td>    1.080</td>\n",
       "</tr>\n",
       "<tr>\n",
       "  <th>female_specialization</th> <td>   -1.3740</td> <td>    0.049</td> <td>  -28.000</td> <td> 0.000</td> <td>   -1.470</td> <td>   -1.278</td>\n",
       "</tr>\n",
       "<tr>\n",
       "  <th>general_competition</th>   <td>    0.0396</td> <td>    0.043</td> <td>    0.929</td> <td> 0.353</td> <td>   -0.044</td> <td>    0.123</td>\n",
       "</tr>\n",
       "</table>"
      ],
      "text/latex": [
       "\\begin{center}\n",
       "\\begin{tabular}{lclc}\n",
       "\\toprule\n",
       "\\textbf{Dep. Variable:}         &     is\\_male     & \\textbf{  No. Observations:  } &    20454    \\\\\n",
       "\\textbf{Model:}                 &      Logit       & \\textbf{  Df Residuals:      } &    20450    \\\\\n",
       "\\textbf{Method:}                &       MLE        & \\textbf{  Df Model:          } &        3    \\\\\n",
       "\\textbf{Date:}                  & Fri, 31 May 2024 & \\textbf{  Pseudo R-squ.:     } &   0.1330    \\\\\n",
       "\\textbf{Time:}                  &     04:58:44     & \\textbf{  Log-Likelihood:    } &   -12097.   \\\\\n",
       "\\textbf{converged:}             &       True       & \\textbf{  LL-Null:           } &   -13953.   \\\\\n",
       "\\textbf{Covariance Type:}       &    nonrobust     & \\textbf{  LLR p-value:       } &    0.000    \\\\\n",
       "\\bottomrule\n",
       "\\end{tabular}\n",
       "\\begin{tabular}{lcccccc}\n",
       "                                & \\textbf{coef} & \\textbf{std err} & \\textbf{z} & \\textbf{P$> |$z$|$} & \\textbf{[0.025} & \\textbf{0.975]}  \\\\\n",
       "\\midrule\n",
       "\\textbf{Score\\_norm}            &      -0.6746  &        0.049     &   -13.686  &         0.000        &       -0.771    &       -0.578     \\\\\n",
       "\\textbf{male\\_specialization}   &       1.0145  &        0.033     &    30.519  &         0.000        &        0.949    &        1.080     \\\\\n",
       "\\textbf{female\\_specialization} &      -1.3740  &        0.049     &   -28.000  &         0.000        &       -1.470    &       -1.278     \\\\\n",
       "\\textbf{general\\_competition}   &       0.0396  &        0.043     &     0.929  &         0.353        &       -0.044    &        0.123     \\\\\n",
       "\\bottomrule\n",
       "\\end{tabular}\n",
       "%\\caption{Logit Regression Results}\n",
       "\\end{center}"
      ],
      "text/plain": [
       "<class 'statsmodels.iolib.summary.Summary'>\n",
       "\"\"\"\n",
       "                           Logit Regression Results                           \n",
       "==============================================================================\n",
       "Dep. Variable:                is_male   No. Observations:                20454\n",
       "Model:                          Logit   Df Residuals:                    20450\n",
       "Method:                           MLE   Df Model:                            3\n",
       "Date:                Fri, 31 May 2024   Pseudo R-squ.:                  0.1330\n",
       "Time:                        04:58:44   Log-Likelihood:                -12097.\n",
       "converged:                       True   LL-Null:                       -13953.\n",
       "Covariance Type:            nonrobust   LLR p-value:                     0.000\n",
       "=========================================================================================\n",
       "                            coef    std err          z      P>|z|      [0.025      0.975]\n",
       "-----------------------------------------------------------------------------------------\n",
       "Score_norm               -0.6746      0.049    -13.686      0.000      -0.771      -0.578\n",
       "male_specialization       1.0145      0.033     30.519      0.000       0.949       1.080\n",
       "female_specialization    -1.3740      0.049    -28.000      0.000      -1.470      -1.278\n",
       "general_competition       0.0396      0.043      0.929      0.353      -0.044       0.123\n",
       "=========================================================================================\n",
       "\"\"\""
      ]
     },
     "execution_count": 55,
     "metadata": {},
     "output_type": "execute_result"
    }
   ],
   "source": [
    "model2016 = get_analysis(2016)\n",
    "model2016.summary()"
   ]
  },
  {
   "cell_type": "code",
   "execution_count": 56,
   "id": "d59f530a-60c7-4060-8621-6e2b86da9c0b",
   "metadata": {},
   "outputs": [
    {
     "name": "stdout",
     "output_type": "stream",
     "text": [
      "Optimization terminated successfully.\n",
      "         Current function value: 0.590859\n",
      "         Iterations: 304\n",
      "         Function evaluations: 514\n",
      "test accuracy: 0.6965408805031447\n"
     ]
    },
    {
     "data": {
      "text/html": [
       "<table class=\"simpletable\">\n",
       "<caption>Logit Regression Results</caption>\n",
       "<tr>\n",
       "  <th>Dep. Variable:</th>        <td>is_male</td>     <th>  No. Observations:  </th>  <td> 20349</td> \n",
       "</tr>\n",
       "<tr>\n",
       "  <th>Model:</th>                 <td>Logit</td>      <th>  Df Residuals:      </th>  <td> 20345</td> \n",
       "</tr>\n",
       "<tr>\n",
       "  <th>Method:</th>                 <td>MLE</td>       <th>  Df Model:          </th>  <td>     3</td> \n",
       "</tr>\n",
       "<tr>\n",
       "  <th>Date:</th>            <td>Fri, 31 May 2024</td> <th>  Pseudo R-squ.:     </th>  <td>0.1373</td> \n",
       "</tr>\n",
       "<tr>\n",
       "  <th>Time:</th>                <td>04:58:45</td>     <th>  Log-Likelihood:    </th> <td> -12023.</td>\n",
       "</tr>\n",
       "<tr>\n",
       "  <th>converged:</th>             <td>True</td>       <th>  LL-Null:           </th> <td> -13938.</td>\n",
       "</tr>\n",
       "<tr>\n",
       "  <th>Covariance Type:</th>     <td>nonrobust</td>    <th>  LLR p-value:       </th>  <td> 0.000</td> \n",
       "</tr>\n",
       "</table>\n",
       "<table class=\"simpletable\">\n",
       "<tr>\n",
       "            <td></td>               <th>coef</th>     <th>std err</th>      <th>z</th>      <th>P>|z|</th>  <th>[0.025</th>    <th>0.975]</th>  \n",
       "</tr>\n",
       "<tr>\n",
       "  <th>Score_norm</th>            <td>   -0.7296</td> <td>    0.052</td> <td>  -13.995</td> <td> 0.000</td> <td>   -0.832</td> <td>   -0.627</td>\n",
       "</tr>\n",
       "<tr>\n",
       "  <th>male_specialization</th>   <td>    1.0388</td> <td>    0.033</td> <td>   31.465</td> <td> 0.000</td> <td>    0.974</td> <td>    1.104</td>\n",
       "</tr>\n",
       "<tr>\n",
       "  <th>female_specialization</th> <td>   -1.2420</td> <td>    0.044</td> <td>  -28.321</td> <td> 0.000</td> <td>   -1.328</td> <td>   -1.156</td>\n",
       "</tr>\n",
       "<tr>\n",
       "  <th>general_competition</th>   <td>    0.1460</td> <td>    0.041</td> <td>    3.577</td> <td> 0.000</td> <td>    0.066</td> <td>    0.226</td>\n",
       "</tr>\n",
       "</table>"
      ],
      "text/latex": [
       "\\begin{center}\n",
       "\\begin{tabular}{lclc}\n",
       "\\toprule\n",
       "\\textbf{Dep. Variable:}         &     is\\_male     & \\textbf{  No. Observations:  } &    20349    \\\\\n",
       "\\textbf{Model:}                 &      Logit       & \\textbf{  Df Residuals:      } &    20345    \\\\\n",
       "\\textbf{Method:}                &       MLE        & \\textbf{  Df Model:          } &        3    \\\\\n",
       "\\textbf{Date:}                  & Fri, 31 May 2024 & \\textbf{  Pseudo R-squ.:     } &   0.1373    \\\\\n",
       "\\textbf{Time:}                  &     04:58:45     & \\textbf{  Log-Likelihood:    } &   -12023.   \\\\\n",
       "\\textbf{converged:}             &       True       & \\textbf{  LL-Null:           } &   -13938.   \\\\\n",
       "\\textbf{Covariance Type:}       &    nonrobust     & \\textbf{  LLR p-value:       } &    0.000    \\\\\n",
       "\\bottomrule\n",
       "\\end{tabular}\n",
       "\\begin{tabular}{lcccccc}\n",
       "                                & \\textbf{coef} & \\textbf{std err} & \\textbf{z} & \\textbf{P$> |$z$|$} & \\textbf{[0.025} & \\textbf{0.975]}  \\\\\n",
       "\\midrule\n",
       "\\textbf{Score\\_norm}            &      -0.7296  &        0.052     &   -13.995  &         0.000        &       -0.832    &       -0.627     \\\\\n",
       "\\textbf{male\\_specialization}   &       1.0388  &        0.033     &    31.465  &         0.000        &        0.974    &        1.104     \\\\\n",
       "\\textbf{female\\_specialization} &      -1.2420  &        0.044     &   -28.321  &         0.000        &       -1.328    &       -1.156     \\\\\n",
       "\\textbf{general\\_competition}   &       0.1460  &        0.041     &     3.577  &         0.000        &        0.066    &        0.226     \\\\\n",
       "\\bottomrule\n",
       "\\end{tabular}\n",
       "%\\caption{Logit Regression Results}\n",
       "\\end{center}"
      ],
      "text/plain": [
       "<class 'statsmodels.iolib.summary.Summary'>\n",
       "\"\"\"\n",
       "                           Logit Regression Results                           \n",
       "==============================================================================\n",
       "Dep. Variable:                is_male   No. Observations:                20349\n",
       "Model:                          Logit   Df Residuals:                    20345\n",
       "Method:                           MLE   Df Model:                            3\n",
       "Date:                Fri, 31 May 2024   Pseudo R-squ.:                  0.1373\n",
       "Time:                        04:58:45   Log-Likelihood:                -12023.\n",
       "converged:                       True   LL-Null:                       -13938.\n",
       "Covariance Type:            nonrobust   LLR p-value:                     0.000\n",
       "=========================================================================================\n",
       "                            coef    std err          z      P>|z|      [0.025      0.975]\n",
       "-----------------------------------------------------------------------------------------\n",
       "Score_norm               -0.7296      0.052    -13.995      0.000      -0.832      -0.627\n",
       "male_specialization       1.0388      0.033     31.465      0.000       0.974       1.104\n",
       "female_specialization    -1.2420      0.044    -28.321      0.000      -1.328      -1.156\n",
       "general_competition       0.1460      0.041      3.577      0.000       0.066       0.226\n",
       "=========================================================================================\n",
       "\"\"\""
      ]
     },
     "execution_count": 56,
     "metadata": {},
     "output_type": "execute_result"
    }
   ],
   "source": [
    "model2017 = get_analysis(2017)\n",
    "model2017.summary()"
   ]
  },
  {
   "cell_type": "code",
   "execution_count": 57,
   "id": "c16cb2fa-bea6-443c-9511-a52de39dda5c",
   "metadata": {},
   "outputs": [
    {
     "name": "stdout",
     "output_type": "stream",
     "text": [
      "Optimization terminated successfully.\n",
      "         Current function value: 0.589343\n",
      "         Iterations: 280\n",
      "         Function evaluations: 468\n",
      "test accuracy: 0.6950253279646708\n"
     ]
    },
    {
     "data": {
      "text/html": [
       "<table class=\"simpletable\">\n",
       "<caption>Logit Regression Results</caption>\n",
       "<tr>\n",
       "  <th>Dep. Variable:</th>        <td>is_male</td>     <th>  No. Observations:  </th>  <td> 30795</td> \n",
       "</tr>\n",
       "<tr>\n",
       "  <th>Model:</th>                 <td>Logit</td>      <th>  Df Residuals:      </th>  <td> 30791</td> \n",
       "</tr>\n",
       "<tr>\n",
       "  <th>Method:</th>                 <td>MLE</td>       <th>  Df Model:          </th>  <td>     3</td> \n",
       "</tr>\n",
       "<tr>\n",
       "  <th>Date:</th>            <td>Fri, 31 May 2024</td> <th>  Pseudo R-squ.:     </th>  <td>0.1455</td> \n",
       "</tr>\n",
       "<tr>\n",
       "  <th>Time:</th>                <td>04:58:46</td>     <th>  Log-Likelihood:    </th> <td> -18149.</td>\n",
       "</tr>\n",
       "<tr>\n",
       "  <th>converged:</th>             <td>True</td>       <th>  LL-Null:           </th> <td> -21239.</td>\n",
       "</tr>\n",
       "<tr>\n",
       "  <th>Covariance Type:</th>     <td>nonrobust</td>    <th>  LLR p-value:       </th>  <td> 0.000</td> \n",
       "</tr>\n",
       "</table>\n",
       "<table class=\"simpletable\">\n",
       "<tr>\n",
       "            <td></td>               <th>coef</th>     <th>std err</th>      <th>z</th>      <th>P>|z|</th>  <th>[0.025</th>    <th>0.975]</th>  \n",
       "</tr>\n",
       "<tr>\n",
       "  <th>Score_norm</th>            <td>   -0.6202</td> <td>    0.041</td> <td>  -15.299</td> <td> 0.000</td> <td>   -0.700</td> <td>   -0.541</td>\n",
       "</tr>\n",
       "<tr>\n",
       "  <th>male_specialization</th>   <td>    1.0333</td> <td>    0.027</td> <td>   38.312</td> <td> 0.000</td> <td>    0.980</td> <td>    1.086</td>\n",
       "</tr>\n",
       "<tr>\n",
       "  <th>female_specialization</th> <td>   -1.3078</td> <td>    0.034</td> <td>  -38.330</td> <td> 0.000</td> <td>   -1.375</td> <td>   -1.241</td>\n",
       "</tr>\n",
       "<tr>\n",
       "  <th>general_competition</th>   <td>    0.1804</td> <td>    0.032</td> <td>    5.612</td> <td> 0.000</td> <td>    0.117</td> <td>    0.243</td>\n",
       "</tr>\n",
       "</table>"
      ],
      "text/latex": [
       "\\begin{center}\n",
       "\\begin{tabular}{lclc}\n",
       "\\toprule\n",
       "\\textbf{Dep. Variable:}         &     is\\_male     & \\textbf{  No. Observations:  } &    30795    \\\\\n",
       "\\textbf{Model:}                 &      Logit       & \\textbf{  Df Residuals:      } &    30791    \\\\\n",
       "\\textbf{Method:}                &       MLE        & \\textbf{  Df Model:          } &        3    \\\\\n",
       "\\textbf{Date:}                  & Fri, 31 May 2024 & \\textbf{  Pseudo R-squ.:     } &   0.1455    \\\\\n",
       "\\textbf{Time:}                  &     04:58:46     & \\textbf{  Log-Likelihood:    } &   -18149.   \\\\\n",
       "\\textbf{converged:}             &       True       & \\textbf{  LL-Null:           } &   -21239.   \\\\\n",
       "\\textbf{Covariance Type:}       &    nonrobust     & \\textbf{  LLR p-value:       } &    0.000    \\\\\n",
       "\\bottomrule\n",
       "\\end{tabular}\n",
       "\\begin{tabular}{lcccccc}\n",
       "                                & \\textbf{coef} & \\textbf{std err} & \\textbf{z} & \\textbf{P$> |$z$|$} & \\textbf{[0.025} & \\textbf{0.975]}  \\\\\n",
       "\\midrule\n",
       "\\textbf{Score\\_norm}            &      -0.6202  &        0.041     &   -15.299  &         0.000        &       -0.700    &       -0.541     \\\\\n",
       "\\textbf{male\\_specialization}   &       1.0333  &        0.027     &    38.312  &         0.000        &        0.980    &        1.086     \\\\\n",
       "\\textbf{female\\_specialization} &      -1.3078  &        0.034     &   -38.330  &         0.000        &       -1.375    &       -1.241     \\\\\n",
       "\\textbf{general\\_competition}   &       0.1804  &        0.032     &     5.612  &         0.000        &        0.117    &        0.243     \\\\\n",
       "\\bottomrule\n",
       "\\end{tabular}\n",
       "%\\caption{Logit Regression Results}\n",
       "\\end{center}"
      ],
      "text/plain": [
       "<class 'statsmodels.iolib.summary.Summary'>\n",
       "\"\"\"\n",
       "                           Logit Regression Results                           \n",
       "==============================================================================\n",
       "Dep. Variable:                is_male   No. Observations:                30795\n",
       "Model:                          Logit   Df Residuals:                    30791\n",
       "Method:                           MLE   Df Model:                            3\n",
       "Date:                Fri, 31 May 2024   Pseudo R-squ.:                  0.1455\n",
       "Time:                        04:58:46   Log-Likelihood:                -18149.\n",
       "converged:                       True   LL-Null:                       -21239.\n",
       "Covariance Type:            nonrobust   LLR p-value:                     0.000\n",
       "=========================================================================================\n",
       "                            coef    std err          z      P>|z|      [0.025      0.975]\n",
       "-----------------------------------------------------------------------------------------\n",
       "Score_norm               -0.6202      0.041    -15.299      0.000      -0.700      -0.541\n",
       "male_specialization       1.0333      0.027     38.312      0.000       0.980       1.086\n",
       "female_specialization    -1.3078      0.034    -38.330      0.000      -1.375      -1.241\n",
       "general_competition       0.1804      0.032      5.612      0.000       0.117       0.243\n",
       "=========================================================================================\n",
       "\"\"\""
      ]
     },
     "execution_count": 57,
     "metadata": {},
     "output_type": "execute_result"
    }
   ],
   "source": [
    "model2018 = get_analysis(2018)\n",
    "model2018.summary()"
   ]
  },
  {
   "cell_type": "code",
   "execution_count": 58,
   "id": "188b255f-bb37-41d7-9ee9-51bb6ec5d37a",
   "metadata": {},
   "outputs": [
    {
     "name": "stdout",
     "output_type": "stream",
     "text": [
      "Optimization terminated successfully.\n",
      "         Current function value: 0.567359\n",
      "         Iterations: 334\n",
      "         Function evaluations: 568\n",
      "test accuracy: 0.738457603274076\n"
     ]
    },
    {
     "data": {
      "text/html": [
       "<table class=\"simpletable\">\n",
       "<caption>Logit Regression Results</caption>\n",
       "<tr>\n",
       "  <th>Dep. Variable:</th>        <td>is_male</td>     <th>  No. Observations:  </th>  <td> 31275</td> \n",
       "</tr>\n",
       "<tr>\n",
       "  <th>Model:</th>                 <td>Logit</td>      <th>  Df Residuals:      </th>  <td> 31271</td> \n",
       "</tr>\n",
       "<tr>\n",
       "  <th>Method:</th>                 <td>MLE</td>       <th>  Df Model:          </th>  <td>     3</td> \n",
       "</tr>\n",
       "<tr>\n",
       "  <th>Date:</th>            <td>Fri, 31 May 2024</td> <th>  Pseudo R-squ.:     </th>  <td>0.1742</td> \n",
       "</tr>\n",
       "<tr>\n",
       "  <th>Time:</th>                <td>04:58:48</td>     <th>  Log-Likelihood:    </th> <td> -17744.</td>\n",
       "</tr>\n",
       "<tr>\n",
       "  <th>converged:</th>             <td>True</td>       <th>  LL-Null:           </th> <td> -21488.</td>\n",
       "</tr>\n",
       "<tr>\n",
       "  <th>Covariance Type:</th>     <td>nonrobust</td>    <th>  LLR p-value:       </th>  <td> 0.000</td> \n",
       "</tr>\n",
       "</table>\n",
       "<table class=\"simpletable\">\n",
       "<tr>\n",
       "            <td></td>               <th>coef</th>     <th>std err</th>      <th>z</th>      <th>P>|z|</th>  <th>[0.025</th>    <th>0.975]</th>  \n",
       "</tr>\n",
       "<tr>\n",
       "  <th>Score_norm</th>            <td>   -1.1062</td> <td>    0.054</td> <td>  -20.316</td> <td> 0.000</td> <td>   -1.213</td> <td>   -0.999</td>\n",
       "</tr>\n",
       "<tr>\n",
       "  <th>male_specialization</th>   <td>    1.3479</td> <td>    0.035</td> <td>   38.841</td> <td> 0.000</td> <td>    1.280</td> <td>    1.416</td>\n",
       "</tr>\n",
       "<tr>\n",
       "  <th>female_specialization</th> <td>   -0.8040</td> <td>    0.040</td> <td>  -20.241</td> <td> 0.000</td> <td>   -0.882</td> <td>   -0.726</td>\n",
       "</tr>\n",
       "<tr>\n",
       "  <th>general_competition</th>   <td>    0.1297</td> <td>    0.033</td> <td>    3.874</td> <td> 0.000</td> <td>    0.064</td> <td>    0.195</td>\n",
       "</tr>\n",
       "</table>"
      ],
      "text/latex": [
       "\\begin{center}\n",
       "\\begin{tabular}{lclc}\n",
       "\\toprule\n",
       "\\textbf{Dep. Variable:}         &     is\\_male     & \\textbf{  No. Observations:  } &    31275    \\\\\n",
       "\\textbf{Model:}                 &      Logit       & \\textbf{  Df Residuals:      } &    31271    \\\\\n",
       "\\textbf{Method:}                &       MLE        & \\textbf{  Df Model:          } &        3    \\\\\n",
       "\\textbf{Date:}                  & Fri, 31 May 2024 & \\textbf{  Pseudo R-squ.:     } &   0.1742    \\\\\n",
       "\\textbf{Time:}                  &     04:58:48     & \\textbf{  Log-Likelihood:    } &   -17744.   \\\\\n",
       "\\textbf{converged:}             &       True       & \\textbf{  LL-Null:           } &   -21488.   \\\\\n",
       "\\textbf{Covariance Type:}       &    nonrobust     & \\textbf{  LLR p-value:       } &    0.000    \\\\\n",
       "\\bottomrule\n",
       "\\end{tabular}\n",
       "\\begin{tabular}{lcccccc}\n",
       "                                & \\textbf{coef} & \\textbf{std err} & \\textbf{z} & \\textbf{P$> |$z$|$} & \\textbf{[0.025} & \\textbf{0.975]}  \\\\\n",
       "\\midrule\n",
       "\\textbf{Score\\_norm}            &      -1.1062  &        0.054     &   -20.316  &         0.000        &       -1.213    &       -0.999     \\\\\n",
       "\\textbf{male\\_specialization}   &       1.3479  &        0.035     &    38.841  &         0.000        &        1.280    &        1.416     \\\\\n",
       "\\textbf{female\\_specialization} &      -0.8040  &        0.040     &   -20.241  &         0.000        &       -0.882    &       -0.726     \\\\\n",
       "\\textbf{general\\_competition}   &       0.1297  &        0.033     &     3.874  &         0.000        &        0.064    &        0.195     \\\\\n",
       "\\bottomrule\n",
       "\\end{tabular}\n",
       "%\\caption{Logit Regression Results}\n",
       "\\end{center}"
      ],
      "text/plain": [
       "<class 'statsmodels.iolib.summary.Summary'>\n",
       "\"\"\"\n",
       "                           Logit Regression Results                           \n",
       "==============================================================================\n",
       "Dep. Variable:                is_male   No. Observations:                31275\n",
       "Model:                          Logit   Df Residuals:                    31271\n",
       "Method:                           MLE   Df Model:                            3\n",
       "Date:                Fri, 31 May 2024   Pseudo R-squ.:                  0.1742\n",
       "Time:                        04:58:48   Log-Likelihood:                -17744.\n",
       "converged:                       True   LL-Null:                       -21488.\n",
       "Covariance Type:            nonrobust   LLR p-value:                     0.000\n",
       "=========================================================================================\n",
       "                            coef    std err          z      P>|z|      [0.025      0.975]\n",
       "-----------------------------------------------------------------------------------------\n",
       "Score_norm               -1.1062      0.054    -20.316      0.000      -1.213      -0.999\n",
       "male_specialization       1.3479      0.035     38.841      0.000       1.280       1.416\n",
       "female_specialization    -0.8040      0.040    -20.241      0.000      -0.882      -0.726\n",
       "general_competition       0.1297      0.033      3.874      0.000       0.064       0.195\n",
       "=========================================================================================\n",
       "\"\"\""
      ]
     },
     "execution_count": 58,
     "metadata": {},
     "output_type": "execute_result"
    }
   ],
   "source": [
    "model2019 = get_analysis(2019)\n",
    "model2019.summary()"
   ]
  },
  {
   "cell_type": "code",
   "execution_count": 59,
   "id": "38ec25d0-9fee-4c21-b38a-df34ded866ea",
   "metadata": {},
   "outputs": [
    {
     "name": "stdout",
     "output_type": "stream",
     "text": [
      "Optimization terminated successfully.\n",
      "         Current function value: 0.561241\n",
      "         Iterations: 361\n",
      "         Function evaluations: 602\n",
      "test accuracy: 0.7306068601583113\n"
     ]
    },
    {
     "data": {
      "text/html": [
       "<table class=\"simpletable\">\n",
       "<caption>Logit Regression Results</caption>\n",
       "<tr>\n",
       "  <th>Dep. Variable:</th>        <td>is_male</td>     <th>  No. Observations:  </th>  <td> 30316</td> \n",
       "</tr>\n",
       "<tr>\n",
       "  <th>Model:</th>                 <td>Logit</td>      <th>  Df Residuals:      </th>  <td> 30312</td> \n",
       "</tr>\n",
       "<tr>\n",
       "  <th>Method:</th>                 <td>MLE</td>       <th>  Df Model:          </th>  <td>     3</td> \n",
       "</tr>\n",
       "<tr>\n",
       "  <th>Date:</th>            <td>Fri, 31 May 2024</td> <th>  Pseudo R-squ.:     </th>  <td>0.1732</td> \n",
       "</tr>\n",
       "<tr>\n",
       "  <th>Time:</th>                <td>04:58:50</td>     <th>  Log-Likelihood:    </th> <td> -17015.</td>\n",
       "</tr>\n",
       "<tr>\n",
       "  <th>converged:</th>             <td>True</td>       <th>  LL-Null:           </th> <td> -20579.</td>\n",
       "</tr>\n",
       "<tr>\n",
       "  <th>Covariance Type:</th>     <td>nonrobust</td>    <th>  LLR p-value:       </th>  <td> 0.000</td> \n",
       "</tr>\n",
       "</table>\n",
       "<table class=\"simpletable\">\n",
       "<tr>\n",
       "            <td></td>               <th>coef</th>     <th>std err</th>      <th>z</th>      <th>P>|z|</th>  <th>[0.025</th>    <th>0.975]</th>  \n",
       "</tr>\n",
       "<tr>\n",
       "  <th>Score_norm</th>            <td>   -1.0803</td> <td>    0.061</td> <td>  -17.728</td> <td> 0.000</td> <td>   -1.200</td> <td>   -0.961</td>\n",
       "</tr>\n",
       "<tr>\n",
       "  <th>male_specialization</th>   <td>    1.2660</td> <td>    0.034</td> <td>   36.956</td> <td> 0.000</td> <td>    1.199</td> <td>    1.333</td>\n",
       "</tr>\n",
       "<tr>\n",
       "  <th>female_specialization</th> <td>   -0.9366</td> <td>    0.039</td> <td>  -23.994</td> <td> 0.000</td> <td>   -1.013</td> <td>   -0.860</td>\n",
       "</tr>\n",
       "<tr>\n",
       "  <th>general_competition</th>   <td>    0.0029</td> <td>    0.036</td> <td>    0.081</td> <td> 0.935</td> <td>   -0.067</td> <td>    0.073</td>\n",
       "</tr>\n",
       "</table>"
      ],
      "text/latex": [
       "\\begin{center}\n",
       "\\begin{tabular}{lclc}\n",
       "\\toprule\n",
       "\\textbf{Dep. Variable:}         &     is\\_male     & \\textbf{  No. Observations:  } &    30316    \\\\\n",
       "\\textbf{Model:}                 &      Logit       & \\textbf{  Df Residuals:      } &    30312    \\\\\n",
       "\\textbf{Method:}                &       MLE        & \\textbf{  Df Model:          } &        3    \\\\\n",
       "\\textbf{Date:}                  & Fri, 31 May 2024 & \\textbf{  Pseudo R-squ.:     } &   0.1732    \\\\\n",
       "\\textbf{Time:}                  &     04:58:50     & \\textbf{  Log-Likelihood:    } &   -17015.   \\\\\n",
       "\\textbf{converged:}             &       True       & \\textbf{  LL-Null:           } &   -20579.   \\\\\n",
       "\\textbf{Covariance Type:}       &    nonrobust     & \\textbf{  LLR p-value:       } &    0.000    \\\\\n",
       "\\bottomrule\n",
       "\\end{tabular}\n",
       "\\begin{tabular}{lcccccc}\n",
       "                                & \\textbf{coef} & \\textbf{std err} & \\textbf{z} & \\textbf{P$> |$z$|$} & \\textbf{[0.025} & \\textbf{0.975]}  \\\\\n",
       "\\midrule\n",
       "\\textbf{Score\\_norm}            &      -1.0803  &        0.061     &   -17.728  &         0.000        &       -1.200    &       -0.961     \\\\\n",
       "\\textbf{male\\_specialization}   &       1.2660  &        0.034     &    36.956  &         0.000        &        1.199    &        1.333     \\\\\n",
       "\\textbf{female\\_specialization} &      -0.9366  &        0.039     &   -23.994  &         0.000        &       -1.013    &       -0.860     \\\\\n",
       "\\textbf{general\\_competition}   &       0.0029  &        0.036     &     0.081  &         0.935        &       -0.067    &        0.073     \\\\\n",
       "\\bottomrule\n",
       "\\end{tabular}\n",
       "%\\caption{Logit Regression Results}\n",
       "\\end{center}"
      ],
      "text/plain": [
       "<class 'statsmodels.iolib.summary.Summary'>\n",
       "\"\"\"\n",
       "                           Logit Regression Results                           \n",
       "==============================================================================\n",
       "Dep. Variable:                is_male   No. Observations:                30316\n",
       "Model:                          Logit   Df Residuals:                    30312\n",
       "Method:                           MLE   Df Model:                            3\n",
       "Date:                Fri, 31 May 2024   Pseudo R-squ.:                  0.1732\n",
       "Time:                        04:58:50   Log-Likelihood:                -17015.\n",
       "converged:                       True   LL-Null:                       -20579.\n",
       "Covariance Type:            nonrobust   LLR p-value:                     0.000\n",
       "=========================================================================================\n",
       "                            coef    std err          z      P>|z|      [0.025      0.975]\n",
       "-----------------------------------------------------------------------------------------\n",
       "Score_norm               -1.0803      0.061    -17.728      0.000      -1.200      -0.961\n",
       "male_specialization       1.2660      0.034     36.956      0.000       1.199       1.333\n",
       "female_specialization    -0.9366      0.039    -23.994      0.000      -1.013      -0.860\n",
       "general_competition       0.0029      0.036      0.081      0.935      -0.067       0.073\n",
       "=========================================================================================\n",
       "\"\"\""
      ]
     },
     "execution_count": 59,
     "metadata": {},
     "output_type": "execute_result"
    }
   ],
   "source": [
    "model2020 = get_analysis(2020)\n",
    "model2020.summary()"
   ]
  },
  {
   "cell_type": "code",
   "execution_count": 60,
   "id": "4060b901-3f90-47dd-acdf-a1fda8029672",
   "metadata": {},
   "outputs": [],
   "source": [
    "score_coefs = [-0.5275, -0.6411, -0.7285, -0.6192, -1.1062, -1.0803]"
   ]
  },
  {
   "cell_type": "code",
   "execution_count": 61,
   "id": "fc140588-ded9-4495-ad54-09470f050b76",
   "metadata": {},
   "outputs": [
    {
     "data": {
      "image/png": "[encoded data removed]",
      "text/plain": [
       "<Figure size 640x480 with 1 Axes>"
      ]
     },
     "metadata": {},
     "output_type": "display_data"
    }
   ],
   "source": [
    "plt.plot(range(2015, 2021), score_coefs)\n",
    "plt.ylim(-1.2, 0)\n",
    "plt.xlabel('year')\n",
    "plt.ylabel('score coef')\n",
    "plt.yticks(np.arange(-1.2, 0.2, 0.2))\n",
    "plt.grid()\n",
    "plt.show()"
   ]
  },
  {
   "cell_type": "code",
   "execution_count": 62,
   "id": "2a03cfa6-7b32-4655-bed5-d6e86d56945f",
   "metadata": {},
   "outputs": [],
   "source": [
    "accuracies = [0.5855513307984791, 0.6900664841611264, 0.6965408805031447, 0.6950253279646708, 0.738457603274076, 0.7306068601583113]"
   ]
  },
  {
   "cell_type": "code",
   "execution_count": 63,
   "id": "b19f313d-379a-4526-89da-cd35744d4220",
   "metadata": {},
   "outputs": [
    {
     "data": {
      "image/png": "[encoded data removed]",
      "text/plain": [
       "<Figure size 640x480 with 1 Axes>"
      ]
     },
     "metadata": {},
     "output_type": "display_data"
    }
   ],
   "source": [
    "plt.plot(range(2015, 2021), accuracies)\n",
    "plt.ylim(0, 1)\n",
    "plt.xlabel('year')\n",
    "plt.ylabel('accuracy score')\n",
    "plt.yticks(np.arange(0, 1.1, 0.1))\n",
    "plt.grid()\n",
    "plt.show()"
   ]
  },
  {
   "cell_type": "code",
   "execution_count": 86,
   "id": "2cb1e093",
   "metadata": {},
   "outputs": [],
   "source": [
    "import pandas as pd\n",
    "import statsmodels.api as sm\n",
    "from sklearn.model_selection import train_test_split as tts\n",
    "from sklearn.metrics import classification_report, accuracy_score\n",
    "\n",
    "def get_combined_analysis(show_summary=False, show_accuracy=True):\n",
    "    # Combine data for all years\n",
    "    combined_df = spec_df[(spec_df['year'] >= 2015) & (spec_df['year'] <= 2020)].reset_index(drop=True)\n",
    "    \n",
    "    # Create interaction term\n",
    "    combined_df['Score_before2017'] = combined_df['Score_norm'] * combined_df['before2017']\n",
    "    \n",
    "    x = combined_df[['Score_norm', 'before2017', 'male_specialization', 'female_specialization', 'general_competition', 'Score_before2017']].copy()\n",
    "    y = combined_df['is_male']\n",
    "    \n",
    "    x_tr, x_t, y_tr, y_t = tts(x, y, test_size=0.2, random_state=105)\n",
    "    \n",
    "    neat_model = sm.Logit(y_tr, x_tr).fit(maxiter=1000, method='nm')\n",
    "    \n",
    "    if show_summary:\n",
    "        y_pred_proba = neat_model.predict(x_t)\n",
    "        y_pred = (y_pred_proba>=0.5).astype(int)\n",
    "        print('test sample')\n",
    "        print(classification_report(y_t, y_pred))\n",
    "        y_pred_proba = neat_model.predict(x_tr)\n",
    "        y_pred = (y_pred_proba>=0.5).astype(int)\n",
    "        print('train sample')\n",
    "        print(classification_report(y_tr, y_pred))\n",
    "    \n",
    "    if show_accuracy:\n",
    "        y_pred_proba = neat_model.predict(x_t)\n",
    "        y_pred = (y_pred_proba>=0.5).astype(int)\n",
    "        print('test accuracy:', accuracy_score(y_t, y_pred))\n",
    "    \n",
    "    return neat_model"
   ]
  },
  {
   "cell_type": "code",
   "execution_count": 87,
   "id": "e7b7d351-b7c0-4d29-b00b-2bfb787e36c4",
   "metadata": {},
   "outputs": [
    {
     "name": "stdout",
     "output_type": "stream",
     "text": [
      "Optimization terminated successfully.\n",
      "         Current function value: 0.590792\n",
      "         Iterations: 418\n",
      "         Function evaluations: 651\n",
      "test sample\n",
      "              precision    recall  f1-score   support\n",
      "\n",
      "           0       0.73      0.75      0.74     21076\n",
      "           1       0.66      0.64      0.65     16167\n",
      "\n",
      "    accuracy                           0.70     37243\n",
      "   macro avg       0.69      0.69      0.69     37243\n",
      "weighted avg       0.70      0.70      0.70     37243\n",
      "\n",
      "train sample\n",
      "              precision    recall  f1-score   support\n",
      "\n",
      "           0       0.73      0.75      0.74     84193\n",
      "           1       0.66      0.63      0.65     64775\n",
      "\n",
      "    accuracy                           0.70    148968\n",
      "   macro avg       0.69      0.69      0.69    148968\n",
      "weighted avg       0.70      0.70      0.70    148968\n",
      "\n",
      "test accuracy: 0.7001047176650645\n"
     ]
    }
   ],
   "source": [
    "# Call the function\n",
    "model = get_combined_analysis(show_summary=True, show_accuracy=True)"
   ]
  },
  {
   "cell_type": "code",
   "execution_count": 88,
   "id": "dbddd927",
   "metadata": {},
   "outputs": [
    {
     "data": {
      "text/html": [
       "<table class=\"simpletable\">\n",
       "<caption>Logit Regression Results</caption>\n",
       "<tr>\n",
       "  <th>Dep. Variable:</th>        <td>is_male</td>     <th>  No. Observations:  </th>   <td>148968</td>   \n",
       "</tr>\n",
       "<tr>\n",
       "  <th>Model:</th>                 <td>Logit</td>      <th>  Df Residuals:      </th>   <td>148962</td>   \n",
       "</tr>\n",
       "<tr>\n",
       "  <th>Method:</th>                 <td>MLE</td>       <th>  Df Model:          </th>   <td>     5</td>   \n",
       "</tr>\n",
       "<tr>\n",
       "  <th>Date:</th>            <td>Fri, 31 May 2024</td> <th>  Pseudo R-squ.:     </th>   <td>0.1371</td>   \n",
       "</tr>\n",
       "<tr>\n",
       "  <th>Time:</th>                <td>06:35:24</td>     <th>  Log-Likelihood:    </th>  <td> -88009.</td>  \n",
       "</tr>\n",
       "<tr>\n",
       "  <th>converged:</th>             <td>True</td>       <th>  LL-Null:           </th> <td>-1.0199e+05</td>\n",
       "</tr>\n",
       "<tr>\n",
       "  <th>Covariance Type:</th>     <td>nonrobust</td>    <th>  LLR p-value:       </th>   <td> 0.000</td>   \n",
       "</tr>\n",
       "</table>\n",
       "<table class=\"simpletable\">\n",
       "<tr>\n",
       "            <td></td>               <th>coef</th>     <th>std err</th>      <th>z</th>      <th>P>|z|</th>  <th>[0.025</th>    <th>0.975]</th>  \n",
       "</tr>\n",
       "<tr>\n",
       "  <th>Score_norm</th>            <td>   -0.8726</td> <td>    0.022</td> <td>  -40.300</td> <td> 0.000</td> <td>   -0.915</td> <td>   -0.830</td>\n",
       "</tr>\n",
       "<tr>\n",
       "  <th>before2017</th>            <td>    0.4661</td> <td>    0.105</td> <td>    4.452</td> <td> 0.000</td> <td>    0.261</td> <td>    0.671</td>\n",
       "</tr>\n",
       "<tr>\n",
       "  <th>male_specialization</th>   <td>    1.0295</td> <td>    0.013</td> <td>   79.279</td> <td> 0.000</td> <td>    1.004</td> <td>    1.055</td>\n",
       "</tr>\n",
       "<tr>\n",
       "  <th>female_specialization</th> <td>   -1.1543</td> <td>    0.016</td> <td>  -72.090</td> <td> 0.000</td> <td>   -1.186</td> <td>   -1.123</td>\n",
       "</tr>\n",
       "<tr>\n",
       "  <th>general_competition</th>   <td>    0.2315</td> <td>    0.015</td> <td>   15.501</td> <td> 0.000</td> <td>    0.202</td> <td>    0.261</td>\n",
       "</tr>\n",
       "<tr>\n",
       "  <th>Score_before2017</th>      <td>   -0.3455</td> <td>    0.123</td> <td>   -2.800</td> <td> 0.005</td> <td>   -0.587</td> <td>   -0.104</td>\n",
       "</tr>\n",
       "</table>"
      ],
      "text/latex": [
       "\\begin{center}\n",
       "\\begin{tabular}{lclc}\n",
       "\\toprule\n",
       "\\textbf{Dep. Variable:}         &     is\\_male     & \\textbf{  No. Observations:  } &    148968    \\\\\n",
       "\\textbf{Model:}                 &      Logit       & \\textbf{  Df Residuals:      } &    148962    \\\\\n",
       "\\textbf{Method:}                &       MLE        & \\textbf{  Df Model:          } &         5    \\\\\n",
       "\\textbf{Date:}                  & Fri, 31 May 2024 & \\textbf{  Pseudo R-squ.:     } &    0.1371    \\\\\n",
       "\\textbf{Time:}                  &     06:35:24     & \\textbf{  Log-Likelihood:    } &    -88009.   \\\\\n",
       "\\textbf{converged:}             &       True       & \\textbf{  LL-Null:           } & -1.0199e+05  \\\\\n",
       "\\textbf{Covariance Type:}       &    nonrobust     & \\textbf{  LLR p-value:       } &     0.000    \\\\\n",
       "\\bottomrule\n",
       "\\end{tabular}\n",
       "\\begin{tabular}{lcccccc}\n",
       "                                & \\textbf{coef} & \\textbf{std err} & \\textbf{z} & \\textbf{P$> |$z$|$} & \\textbf{[0.025} & \\textbf{0.975]}  \\\\\n",
       "\\midrule\n",
       "\\textbf{Score\\_norm}            &      -0.8726  &        0.022     &   -40.300  &         0.000        &       -0.915    &       -0.830     \\\\\n",
       "\\textbf{before2017}             &       0.4661  &        0.105     &     4.452  &         0.000        &        0.261    &        0.671     \\\\\n",
       "\\textbf{male\\_specialization}   &       1.0295  &        0.013     &    79.279  &         0.000        &        1.004    &        1.055     \\\\\n",
       "\\textbf{female\\_specialization} &      -1.1543  &        0.016     &   -72.090  &         0.000        &       -1.186    &       -1.123     \\\\\n",
       "\\textbf{general\\_competition}   &       0.2315  &        0.015     &    15.501  &         0.000        &        0.202    &        0.261     \\\\\n",
       "\\textbf{Score\\_before2017}      &      -0.3455  &        0.123     &    -2.800  &         0.005        &       -0.587    &       -0.104     \\\\\n",
       "\\bottomrule\n",
       "\\end{tabular}\n",
       "%\\caption{Logit Regression Results}\n",
       "\\end{center}"
      ],
      "text/plain": [
       "<class 'statsmodels.iolib.summary.Summary'>\n",
       "\"\"\"\n",
       "                           Logit Regression Results                           \n",
       "==============================================================================\n",
       "Dep. Variable:                is_male   No. Observations:               148968\n",
       "Model:                          Logit   Df Residuals:                   148962\n",
       "Method:                           MLE   Df Model:                            5\n",
       "Date:                Fri, 31 May 2024   Pseudo R-squ.:                  0.1371\n",
       "Time:                        06:35:24   Log-Likelihood:                -88009.\n",
       "converged:                       True   LL-Null:                   -1.0199e+05\n",
       "Covariance Type:            nonrobust   LLR p-value:                     0.000\n",
       "=========================================================================================\n",
       "                            coef    std err          z      P>|z|      [0.025      0.975]\n",
       "-----------------------------------------------------------------------------------------\n",
       "Score_norm               -0.8726      0.022    -40.300      0.000      -0.915      -0.830\n",
       "before2017                0.4661      0.105      4.452      0.000       0.261       0.671\n",
       "male_specialization       1.0295      0.013     79.279      0.000       1.004       1.055\n",
       "female_specialization    -1.1543      0.016    -72.090      0.000      -1.186      -1.123\n",
       "general_competition       0.2315      0.015     15.501      0.000       0.202       0.261\n",
       "Score_before2017         -0.3455      0.123     -2.800      0.005      -0.587      -0.104\n",
       "=========================================================================================\n",
       "\"\"\""
      ]
     },
     "execution_count": 88,
     "metadata": {},
     "output_type": "execute_result"
    }
   ],
   "source": [
    "model.summary()"
   ]
  }
 ],
 "metadata": {
  "kernelspec": {
   "display_name": "Python 3 (ipykernel)",
   "language": "python",
   "name": "python3"
  },
  "language_info": {
   "codemirror_mode": {
    "name": "ipython",
    "version": 3
   },
   "file_extension": ".py",
   "mimetype": "text/x-python",
   "name": "python",
   "nbconvert_exporter": "python",
   "pygments_lexer": "ipython3",
   "version": "3.8.9"
  }
 },
 "nbformat": 4,
 "nbformat_minor": 5
}
